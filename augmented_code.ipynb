{
 "cells": [
  {
   "cell_type": "code",
   "execution_count": 28,
   "metadata": {},
   "outputs": [],
   "source": [
    "from tensorflow.keras.preprocessing.image import ImageDataGenerator, array_to_img, img_to_array, load_img\n",
    "from PIL import Image\n",
    "from skimage import io\n",
    "import numpy as np  \n",
    "import os \n",
    "\n",
    "datagen = ImageDataGenerator(\n",
    "        rotation_range=45, \n",
    "        width_shift_range=0.2,\n",
    "        height_shift_range=0.2,\n",
    "        shear_range=0.2,\n",
    "        zoom_range=0.2,\n",
    "        horizontal_flip=True,\n",
    "        fill_mode='reflect')\n",
    "\n",
    "image_dir = \"D:/AI4E/AI4E_Project/CV1/dataset/animals/african_elephant/\" \n",
    "SIZE = 256\n",
    "dataset = []\n",
    "\n",
    "my_images = os.listdir(image_dir)\n",
    "for i, image_name in enumerate(my_images):\n",
    "        if (image_name.split('.')[1] == \"jpg\"):\n",
    "                image = io.imread(image_dir + image_name)\n",
    "                image = Image.fromarray(image, 'RGB')\n",
    "                image = image.resize((SIZE,SIZE))\n",
    "                dataset.append(np.array(image))\n",
    "                \n",
    "x = np.array(dataset)\n",
    "\n",
    "i = 0\n",
    "for batch in datagen.flow(x, batch_size=16,\n",
    "                          save_to_dir=\"D:/AI4E/AI4E_Project/CV1/augmented_dataset/aug_animals/aug_african_elephant\",\n",
    "                          save_prefix=\"aug\",\n",
    "                          save_format=\"jpg\"):\n",
    "        i += 1\n",
    "        if (i >= 32):\n",
    "                break"
   ]
  }
 ],
 "metadata": {
  "kernelspec": {
   "display_name": "base",
   "language": "python",
   "name": "python3"
  },
  "language_info": {
   "codemirror_mode": {
    "name": "ipython",
    "version": 3
   },
   "file_extension": ".py",
   "mimetype": "text/x-python",
   "name": "python",
   "nbconvert_exporter": "python",
   "pygments_lexer": "ipython3",
   "version": "3.11.7"
  }
 },
 "nbformat": 4,
 "nbformat_minor": 2
}
