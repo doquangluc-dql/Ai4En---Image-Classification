{
 "cells": [
  {
   "cell_type": "markdown",
   "metadata": {
    "id": "cdfMLU_Fyss_"
   },
   "source": [
    "# Thử nghiệm: Gabor filtering + CNN + ViT + InceptionNet"
   ]
  },
  {
   "cell_type": "markdown",
   "metadata": {
    "id": "qssLFkrqkiNP"
   },
   "source": [
    "# Preparation\n",
    "Import Library"
   ]
  },
  {
   "cell_type": "code",
   "execution_count": 1,
   "metadata": {
    "execution": {
     "iopub.execute_input": "2024-09-02T07:00:22.965758Z",
     "iopub.status.busy": "2024-09-02T07:00:22.965488Z",
     "iopub.status.idle": "2024-09-02T07:00:23.873961Z",
     "shell.execute_reply": "2024-09-02T07:00:23.873268Z"
    },
    "id": "W1XWg2KdkiNS"
   },
   "outputs": [],
   "source": [
    "import numpy as np\n",
    "import matplotlib.pyplot as plt\n",
    "import matplotlib.pyplot as plt\n",
    "import os\n",
    "import shutil\n",
    "\n",
    "from sklearn import datasets\n",
    "from sklearn.model_selection import train_test_split\n",
    "from sklearn.svm import SVC\n",
    "from sklearn.metrics import accuracy_score\n",
    "from sklearn.preprocessing import StandardScaler\n",
    "from imageio import imread\n",
    "from skimage.transform import resize\n",
    "from sklearn.model_selection import train_test_split\n",
    "from sklearn.preprocessing import StandardScaler\n",
    "from sklearn.svm import SVC\n",
    "from sklearn.metrics import accuracy_score, classification_report"
   ]
  },
  {
   "cell_type": "markdown",
   "metadata": {
    "id": "4Q7tusOh5wk3"
   },
   "source": [
    "## Data Path"
   ]
  },
  {
   "cell_type": "markdown",
   "metadata": {
    "id": "QdWKJHnKZR7k"
   },
   "source": [
    "Tải dữ liệu đã xử lý sẵn trên Google Drive"
   ]
  },
  {
   "cell_type": "code",
   "execution_count": 2,
   "metadata": {
    "execution": {
     "iopub.execute_input": "2024-09-02T07:00:23.877479Z",
     "iopub.status.busy": "2024-09-02T07:00:23.877057Z",
     "iopub.status.idle": "2024-09-02T07:00:23.880559Z",
     "shell.execute_reply": "2024-09-02T07:00:23.879951Z"
    },
    "id": "fZGxOzDCystF"
   },
   "outputs": [],
   "source": [
    "import os\n",
    "project_dir = 'Project 1 - CV - Animal Image Classification/'\n",
    "filter_path = project_dir + 'filtered-name/'\n",
    "image_path = project_dir + 'animals/'\n",
    "#os.makedirs(image_path, exist_ok=True)"
   ]
  },
  {
   "cell_type": "code",
   "execution_count": 3,
   "metadata": {
    "colab": {
     "base_uri": "https://localhost:8080/",
     "height": 159
    },
    "collapsed": true,
    "execution": {
     "iopub.execute_input": "2024-09-02T07:00:23.883352Z",
     "iopub.status.busy": "2024-09-02T07:00:23.882970Z",
     "iopub.status.idle": "2024-09-02T07:00:23.887997Z",
     "shell.execute_reply": "2024-09-02T07:00:23.887417Z"
    },
    "id": "4S3Obu4qnlbU",
    "outputId": "a008c7a9-60d9-488d-8411-1c652bd1c473"
   },
   "outputs": [
    {
     "name": "stdout",
     "output_type": "stream",
     "text": [
      "seal armadillo otter opossum red_panda water_buffalo porcupine vampire_bat sugar_glider brown_bear mongoose dolphin weasel wildebeest sea_lion alpaca badger manatee koala mountain_goat vicuna warthog blue_whale tapir arctic_fox giraffe jackal orangutan groundhog baboon wombat yak african_elephant snow_leopard horse kangaroo squirrel polar_bear highland_cattle camel anteater american_bison rhinoceros walrus zebra "
     ]
    }
   ],
   "source": [
    "folders = [f for f in os.listdir(filter_path) if os.path.isdir(os.path.join(filter_path, f))]\n",
    "for folder in folders: print(folder, end = ' ')"
   ]
  },
  {
   "cell_type": "code",
   "execution_count": 4,
   "metadata": {
    "execution": {
     "iopub.execute_input": "2024-09-02T07:00:23.924923Z",
     "iopub.status.busy": "2024-09-02T07:00:23.924569Z",
     "iopub.status.idle": "2024-09-02T07:00:23.941657Z",
     "shell.execute_reply": "2024-09-02T07:00:23.940960Z"
    },
    "id": "7uKgHH-vystG"
   },
   "outputs": [
    {
     "name": "stdout",
     "output_type": "stream",
     "text": [
      "Project 1 - CV - Animal Image Classification/animals//seal/seal-0049.jpg del-ed | Project 1 - CV - Animal Image Classification/animals//seal/seal-0073.jpg del-ed | Project 1 - CV - Animal Image Classification/animals//seal/seal-0090.jpg del-ed | Project 1 - CV - Animal Image Classification/animals//seal/seal-0118.jpg del-ed | Project 1 - CV - Animal Image Classification/animals//seal/seal-0119.jpg del-ed | Project 1 - CV - Animal Image Classification/animals//seal/seal-0132.jpg del-ed | Project 1 - CV - Animal Image Classification/animals//seal/seal-0137.jpg del-ed | Project 1 - CV - Animal Image Classification/animals//seal/seal-0149.jpg del-ed | Project 1 - CV - Animal Image Classification/animals//seal/seal-0158.jpg del-ed | Project 1 - CV - Animal Image Classification/animals//seal/seal-0198.jpg del-ed | Project 1 - CV - Animal Image Classification/animals//seal/seal-0202.jpg del-ed | Project 1 - CV - Animal Image Classification/animals//seal/seal-0242.jpg del-ed | Project 1 - CV - Animal Image Classification/animals//seal/seal-0256.jpg del-ed | Project 1 - CV - Animal Image Classification/animals//seal/seal-0264.jpg del-ed | Project 1 - CV - Animal Image Classification/animals//seal/seal-0267.jpg del-ed | Project 1 - CV - Animal Image Classification/animals//seal/seal-0271.jpg del-ed | Project 1 - CV - Animal Image Classification/animals//seal/seal-0272.jpg del-ed | Project 1 - CV - Animal Image Classification/animals//seal/seal-0291.jpg del-ed | Project 1 - CV - Animal Image Classification/animals//seal/seal-0321.jpg del-ed | Project 1 - CV - Animal Image Classification/animals//seal/seal-0326.jpg del-ed | Project 1 - CV - Animal Image Classification/animals//armadillo/armadillo-0002.jpg del-ed | Project 1 - CV - Animal Image Classification/animals//armadillo/armadillo-0038.jpg del-ed | Project 1 - CV - Animal Image Classification/animals//armadillo/armadillo-0040.jpg del-ed | Project 1 - CV - Animal Image Classification/animals//armadillo/armadillo-0059.jpg del-ed | Project 1 - CV - Animal Image Classification/animals//armadillo/armadillo-0066.jpg del-ed | Project 1 - CV - Animal Image Classification/animals//armadillo/armadillo-0074.jpg del-ed | Project 1 - CV - Animal Image Classification/animals//armadillo/armadillo-0075.jpg del-ed | Project 1 - CV - Animal Image Classification/animals//armadillo/armadillo-0083.jpg del-ed | Project 1 - CV - Animal Image Classification/animals//armadillo/armadillo-0108.jpg del-ed | Project 1 - CV - Animal Image Classification/animals//armadillo/armadillo-0131.jpg del-ed | Project 1 - CV - Animal Image Classification/animals//armadillo/armadillo-0164.jpg del-ed | Project 1 - CV - Animal Image Classification/animals//armadillo/armadillo-0168.jpg del-ed | Project 1 - CV - Animal Image Classification/animals//armadillo/armadillo-0177.jpg del-ed | Project 1 - CV - Animal Image Classification/animals//armadillo/armadillo-0191.jpg del-ed | Project 1 - CV - Animal Image Classification/animals//armadillo/armadillo-0204.jpg del-ed | Project 1 - CV - Animal Image Classification/animals//armadillo/armadillo-0220.jpg del-ed | Project 1 - CV - Animal Image Classification/animals//armadillo/armadillo-0237.jpg del-ed | Project 1 - CV - Animal Image Classification/animals//armadillo/armadillo-0249.jpg del-ed | Project 1 - CV - Animal Image Classification/animals//armadillo/armadillo-0263.jpg del-ed | Project 1 - CV - Animal Image Classification/animals//armadillo/armadillo-0274.jpg del-ed | Project 1 - CV - Animal Image Classification/animals//armadillo/armadillo-0276.jpg del-ed | Project 1 - CV - Animal Image Classification/animals//armadillo/armadillo-0279.jpg del-ed | Project 1 - CV - Animal Image Classification/animals//armadillo/armadillo-0289.jpg del-ed | Project 1 - CV - Animal Image Classification/animals//armadillo/armadillo-0314.jpg del-ed | Project 1 - CV - Animal Image Classification/animals//armadillo/armadillo-0326.jpg del-ed | Project 1 - CV - Animal Image Classification/animals//otter/otter-0004.jpg del-ed | Project 1 - CV - Animal Image Classification/animals//otter/otter-0011.jpg del-ed | Project 1 - CV - Animal Image Classification/animals//otter/otter-0026.jpg del-ed | Project 1 - CV - Animal Image Classification/animals//otter/otter-0031.jpg del-ed | Project 1 - CV - Animal Image Classification/animals//otter/otter-0040.jpg del-ed | Project 1 - CV - Animal Image Classification/animals//otter/otter-0045.jpg del-ed | Project 1 - CV - Animal Image Classification/animals//otter/otter-0055.jpg del-ed | Project 1 - CV - Animal Image Classification/animals//otter/otter-0067.jpg del-ed | Project 1 - CV - Animal Image Classification/animals//otter/otter-0068.jpg del-ed | Project 1 - CV - Animal Image Classification/animals//otter/otter-0071.jpg del-ed | Project 1 - CV - Animal Image Classification/animals//otter/otter-0087.jpg del-ed | Project 1 - CV - Animal Image Classification/animals//otter/otter-0097.jpg del-ed | Project 1 - CV - Animal Image Classification/animals//otter/otter-0108.jpg del-ed | Project 1 - CV - Animal Image Classification/animals//otter/otter-0110.jpg del-ed | Project 1 - CV - Animal Image Classification/animals//otter/otter-0111.jpg del-ed | Project 1 - CV - Animal Image Classification/animals//otter/otter-0121.jpg del-ed | Project 1 - CV - Animal Image Classification/animals//otter/otter-0159.jpg del-ed | Project 1 - CV - Animal Image Classification/animals//otter/otter-0175.jpg del-ed | Project 1 - CV - Animal Image Classification/animals//otter/otter-0185.jpg del-ed | Project 1 - CV - Animal Image Classification/animals//otter/otter-0199.jpg del-ed | Project 1 - CV - Animal Image Classification/animals//otter/otter-0200.jpg del-ed | Project 1 - CV - Animal Image Classification/animals//otter/otter-0209.jpg del-ed | Project 1 - CV - Animal Image Classification/animals//otter/otter-0214.jpg del-ed | Project 1 - CV - Animal Image Classification/animals//otter/otter-0219.jpg del-ed | Project 1 - CV - Animal Image Classification/animals//otter/otter-0238.jpg del-ed | Project 1 - CV - Animal Image Classification/animals//otter/otter-0248.jpg del-ed | Project 1 - CV - Animal Image Classification/animals//otter/otter-0261.jpg del-ed | Project 1 - CV - Animal Image Classification/animals//otter/otter-0287.jpg del-ed | Project 1 - CV - Animal Image Classification/animals//otter/otter-0291.jpg del-ed | Project 1 - CV - Animal Image Classification/animals//otter/otter-0297.jpg del-ed | Project 1 - CV - Animal Image Classification/animals//otter/otter-0299.jpg del-ed | Project 1 - CV - Animal Image Classification/animals//otter/otter-0300.jpg del-ed | Project 1 - CV - Animal Image Classification/animals//otter/otter-0310.jpg del-ed | Project 1 - CV - Animal Image Classification/animals//otter/otter-0311.jpg del-ed | Project 1 - CV - Animal Image Classification/animals//otter/otter-0313.jpg del-ed | Project 1 - CV - Animal Image Classification/animals//otter/otter-0315.jpg del-ed | Project 1 - CV - Animal Image Classification/animals//otter/otter-0319.jpg del-ed | Project 1 - CV - Animal Image Classification/animals//otter/otter-0324.jpg del-ed | Project 1 - CV - Animal Image Classification/animals//otter/otter-0329.jpg del-ed | Project 1 - CV - Animal Image Classification/animals//otter/otter-0334.jpg del-ed | Project 1 - CV - Animal Image Classification/animals//otter/otter-0335.jpg del-ed | Project 1 - CV - Animal Image Classification/animals//otter/otter-0345.jpg del-ed | Project 1 - CV - Animal Image Classification/animals//opossum/opossum-0001.jpg del-ed | Project 1 - CV - Animal Image Classification/animals//opossum/opossum-0004.jpg del-ed | Project 1 - CV - Animal Image Classification/animals//opossum/opossum-0017.jpg del-ed | Project 1 - CV - Animal Image Classification/animals//opossum/opossum-0024.jpg del-ed | Project 1 - CV - Animal Image Classification/animals//opossum/opossum-0036.jpg del-ed | Project 1 - CV - Animal Image Classification/animals//opossum/opossum-0044.jpg del-ed | Project 1 - CV - Animal Image Classification/animals//opossum/opossum-0053.jpg del-ed | Project 1 - CV - Animal Image Classification/animals//opossum/opossum-0055.jpg del-ed | Project 1 - CV - Animal Image Classification/animals//opossum/opossum-0084.jpg del-ed | Project 1 - CV - Animal Image Classification/animals//opossum/opossum-0098.jpg del-ed | Project 1 - CV - Animal Image Classification/animals//opossum/opossum-0105.jpg del-ed | Project 1 - CV - Animal Image Classification/animals//opossum/opossum-0106.jpg del-ed | Project 1 - CV - Animal Image Classification/animals//opossum/opossum-0109.jpg del-ed | Project 1 - CV - Animal Image Classification/animals//opossum/opossum-0115.jpg del-ed | Project 1 - CV - Animal Image Classification/animals//opossum/opossum-0122.jpg del-ed | Project 1 - CV - Animal Image Classification/animals//opossum/opossum-0129.jpg del-ed | Project 1 - CV - Animal Image Classification/animals//opossum/opossum-0186.jpg del-ed | Project 1 - CV - Animal Image Classification/animals//opossum/opossum-0187.jpg del-ed | Project 1 - CV - Animal Image Classification/animals//opossum/opossum-0189.jpg del-ed | Project 1 - CV - Animal Image Classification/animals//opossum/opossum-0195.jpg del-ed | Project 1 - CV - Animal Image Classification/animals//opossum/opossum-0198.jpg del-ed | Project 1 - CV - Animal Image Classification/animals//opossum/opossum-0201.jpg del-ed | Project 1 - CV - Animal Image Classification/animals//opossum/opossum-0206.jpg del-ed | Project 1 - CV - Animal Image Classification/animals//opossum/opossum-0212.jpg del-ed | Project 1 - CV - Animal Image Classification/animals//opossum/opossum-0221.jpg del-ed | Project 1 - CV - Animal Image Classification/animals//opossum/opossum-0227.jpg del-ed | Project 1 - CV - Animal Image Classification/animals//opossum/opossum-0243.jpg del-ed | Project 1 - CV - Animal Image Classification/animals//opossum/opossum-0251.jpg del-ed | Project 1 - CV - Animal Image Classification/animals//opossum/opossum-0261.jpg del-ed | Project 1 - CV - Animal Image Classification/animals//opossum/opossum-0264.jpg del-ed | Project 1 - CV - Animal Image Classification/animals//opossum/opossum-0267.jpg del-ed | Project 1 - CV - Animal Image Classification/animals//opossum/opossum-0268.jpg del-ed | Project 1 - CV - Animal Image Classification/animals//opossum/opossum-0270.jpg del-ed | Project 1 - CV - Animal Image Classification/animals//opossum/opossum-0272.jpg del-ed | Project 1 - CV - Animal Image Classification/animals//opossum/opossum-0276.jpg del-ed | Project 1 - CV - Animal Image Classification/animals//opossum/opossum-0293.jpg del-ed | Project 1 - CV - Animal Image Classification/animals//opossum/opossum-0295.jpg del-ed | Project 1 - CV - Animal Image Classification/animals//opossum/opossum-0307.jpg del-ed | Project 1 - CV - Animal Image Classification/animals//opossum/opossum-0308.jpg del-ed | Project 1 - CV - Animal Image Classification/animals//opossum/opossum-0317.jpg del-ed | Project 1 - CV - Animal Image Classification/animals//opossum/opossum-0322.jpg del-ed | Project 1 - CV - Animal Image Classification/animals//opossum/opossum-0323.jpg del-ed | Project 1 - CV - Animal Image Classification/animals//red_panda/red_panda-0050.jpg del-ed | Project 1 - CV - Animal Image Classification/animals//red_panda/red_panda-0055.jpg del-ed | Project 1 - CV - Animal Image Classification/animals//red_panda/red_panda-0067.jpg del-ed | Project 1 - CV - Animal Image Classification/animals//red_panda/red_panda-0071.jpg del-ed | Project 1 - CV - Animal Image Classification/animals//red_panda/red_panda-0073.jpg del-ed | Project 1 - CV - Animal Image Classification/animals//red_panda/red_panda-0077.jpg del-ed | Project 1 - CV - Animal Image Classification/animals//red_panda/red_panda-0079.jpg del-ed | Project 1 - CV - Animal Image Classification/animals//red_panda/red_panda-0083.jpg del-ed | Project 1 - CV - Animal Image Classification/animals//red_panda/red_panda-0087.jpg del-ed | Project 1 - CV - Animal Image Classification/animals//red_panda/red_panda-0097.jpg del-ed | Project 1 - CV - Animal Image Classification/animals//red_panda/red_panda-0108.jpg del-ed | Project 1 - CV - Animal Image Classification/animals//red_panda/red_panda-0111.jpg del-ed | Project 1 - CV - Animal Image Classification/animals//red_panda/red_panda-0121.jpg del-ed | Project 1 - CV - Animal Image Classification/animals//red_panda/red_panda-0142.jpg del-ed | Project 1 - CV - Animal Image Classification/animals//red_panda/red_panda-0166.jpg del-ed | Project 1 - CV - Animal Image Classification/animals//red_panda/red_panda-0169.jpg del-ed | Project 1 - CV - Animal Image Classification/animals//red_panda/red_panda-0193.jpg del-ed | Project 1 - CV - Animal Image Classification/animals//red_panda/red_panda-0211.jpg del-ed | Project 1 - CV - Animal Image Classification/animals//red_panda/red_panda-0216.jpg del-ed | Project 1 - CV - Animal Image Classification/animals//red_panda/red_panda-0232.jpg del-ed | Project 1 - CV - Animal Image Classification/animals//red_panda/red_panda-0236.jpg del-ed | Project 1 - CV - Animal Image Classification/animals//red_panda/red_panda-0240.jpg del-ed | Project 1 - CV - Animal Image Classification/animals//red_panda/red_panda-0245.jpg del-ed | Project 1 - CV - Animal Image Classification/animals//red_panda/red_panda-0261.jpg del-ed | Project 1 - CV - Animal Image Classification/animals//red_panda/red_panda-0295.jpg del-ed | Project 1 - CV - Animal Image Classification/animals//red_panda/red_panda-0308.jpg del-ed | Project 1 - CV - Animal Image Classification/animals//red_panda/red_panda-0313.jpg del-ed | Project 1 - CV - Animal Image Classification/animals//water_buffalo/water_buffalo-0006.jpg del-ed | Project 1 - CV - Animal Image Classification/animals//water_buffalo/water_buffalo-0024.jpg del-ed | Project 1 - CV - Animal Image Classification/animals//water_buffalo/water_buffalo-0026.jpg del-ed | Project 1 - CV - Animal Image Classification/animals//water_buffalo/water_buffalo-0032.jpg del-ed | Project 1 - CV - Animal Image Classification/animals//water_buffalo/water_buffalo-0034.jpg del-ed | Project 1 - CV - Animal Image Classification/animals//water_buffalo/water_buffalo-0040.jpg del-ed | Project 1 - CV - Animal Image Classification/animals//water_buffalo/water_buffalo-0045.jpg del-ed | Project 1 - CV - Animal Image Classification/animals//water_buffalo/water_buffalo-0050.jpg del-ed | Project 1 - CV - Animal Image Classification/animals//water_buffalo/water_buffalo-0064.jpg del-ed | Project 1 - CV - Animal Image Classification/animals//water_buffalo/water_buffalo-0066.jpg del-ed | Project 1 - CV - Animal Image Classification/animals//water_buffalo/water_buffalo-0067.jpg del-ed | Project 1 - CV - Animal Image Classification/animals//water_buffalo/water_buffalo-0073.jpg del-ed | Project 1 - CV - Animal Image Classification/animals//water_buffalo/water_buffalo-0078.jpg del-ed | Project 1 - CV - Animal Image Classification/animals//water_buffalo/water_buffalo-0079.jpg del-ed | Project 1 - CV - Animal Image Classification/animals//water_buffalo/water_buffalo-0083.jpg del-ed | Project 1 - CV - Animal Image Classification/animals//water_buffalo/water_buffalo-0098.jpg del-ed | Project 1 - CV - Animal Image Classification/animals//water_buffalo/water_buffalo-0111.jpg del-ed | Project 1 - CV - Animal Image Classification/animals//water_buffalo/water_buffalo-0137.jpg del-ed | Project 1 - CV - Animal Image Classification/animals//water_buffalo/water_buffalo-0138.jpg del-ed | Project 1 - CV - Animal Image Classification/animals//water_buffalo/water_buffalo-0166.jpg del-ed | Project 1 - CV - Animal Image Classification/animals//water_buffalo/water_buffalo-0199.jpg del-ed | Project 1 - CV - Animal Image Classification/animals//water_buffalo/water_buffalo-0209.jpg del-ed | Project 1 - CV - Animal Image Classification/animals//water_buffalo/water_buffalo-0211.jpg del-ed | Project 1 - CV - Animal Image Classification/animals//water_buffalo/water_buffalo-0216.jpg del-ed | Project 1 - CV - Animal Image Classification/animals//water_buffalo/water_buffalo-0219.jpg del-ed | Project 1 - CV - Animal Image Classification/animals//water_buffalo/water_buffalo-0228.jpg del-ed | Project 1 - CV - Animal Image Classification/animals//water_buffalo/water_buffalo-0240.jpg del-ed | Project 1 - CV - Animal Image Classification/animals//water_buffalo/water_buffalo-0245.jpg del-ed | Project 1 - CV - Animal Image Classification/animals//water_buffalo/water_buffalo-0255.jpg del-ed | Project 1 - CV - Animal Image Classification/animals//water_buffalo/water_buffalo-0260.jpg del-ed | Project 1 - CV - Animal Image Classification/animals//water_buffalo/water_buffalo-0281.jpg del-ed | Project 1 - CV - Animal Image Classification/animals//water_buffalo/water_buffalo-0282.jpg del-ed | Project 1 - CV - Animal Image Classification/animals//water_buffalo/water_buffalo-0287.jpg del-ed | Project 1 - CV - Animal Image Classification/animals//water_buffalo/water_buffalo-0292.jpg del-ed | Project 1 - CV - Animal Image Classification/animals//water_buffalo/water_buffalo-0299.jpg del-ed | Project 1 - CV - Animal Image Classification/animals//water_buffalo/water_buffalo-0301.jpg del-ed | Project 1 - CV - Animal Image Classification/animals//water_buffalo/water_buffalo-0306.jpg del-ed | Project 1 - CV - Animal Image Classification/animals//porcupine/porcupine-0009.jpg del-ed | Project 1 - CV - Animal Image Classification/animals//porcupine/porcupine-0017.jpg del-ed | Project 1 - CV - Animal Image Classification/animals//porcupine/porcupine-0036.jpg del-ed | Project 1 - CV - Animal Image Classification/animals//porcupine/porcupine-0037.jpg del-ed | Project 1 - CV - Animal Image Classification/animals//porcupine/porcupine-0039.jpg del-ed | Project 1 - CV - Animal Image Classification/animals//porcupine/porcupine-0049.jpg del-ed | Project 1 - CV - Animal Image Classification/animals//porcupine/porcupine-0052.jpg del-ed | Project 1 - CV - Animal Image Classification/animals//porcupine/porcupine-0057.jpg del-ed | Project 1 - CV - Animal Image Classification/animals//porcupine/porcupine-0060.jpg del-ed | Project 1 - CV - Animal Image Classification/animals//porcupine/porcupine-0070.jpg del-ed | Project 1 - CV - Animal Image Classification/animals//porcupine/porcupine-0074.jpg del-ed | Project 1 - CV - Animal Image Classification/animals//porcupine/porcupine-0094.jpg del-ed | Project 1 - CV - Animal Image Classification/animals//porcupine/porcupine-0118.jpg del-ed | Project 1 - CV - Animal Image Classification/animals//porcupine/porcupine-0129.jpg del-ed | Project 1 - CV - Animal Image Classification/animals//porcupine/porcupine-0139.jpg del-ed | Project 1 - CV - Animal Image Classification/animals//porcupine/porcupine-0150.jpg del-ed | Project 1 - CV - Animal Image Classification/animals//porcupine/porcupine-0160.jpg del-ed | Project 1 - CV - Animal Image Classification/animals//porcupine/porcupine-0173.jpg del-ed | Project 1 - CV - Animal Image Classification/animals//porcupine/porcupine-0191.jpg del-ed | Project 1 - CV - Animal Image Classification/animals//porcupine/porcupine-0195.jpg del-ed | Project 1 - CV - Animal Image Classification/animals//porcupine/porcupine-0223.jpg del-ed | Project 1 - CV - Animal Image Classification/animals//porcupine/porcupine-0242.jpg del-ed | Project 1 - CV - Animal Image Classification/animals//porcupine/porcupine-0263.jpg del-ed | Project 1 - CV - Animal Image Classification/animals//porcupine/porcupine-0273.jpg del-ed | Project 1 - CV - Animal Image Classification/animals//porcupine/porcupine-0285.jpg del-ed | Project 1 - CV - Animal Image Classification/animals//porcupine/porcupine-0286.jpg del-ed | Project 1 - CV - Animal Image Classification/animals//porcupine/porcupine-0289.jpg del-ed | Project 1 - CV - Animal Image Classification/animals//porcupine/porcupine-0315.jpg del-ed | Project 1 - CV - Animal Image Classification/animals//vampire_bat/vampire_bat-0003.jpg del-ed | Project 1 - CV - Animal Image Classification/animals//vampire_bat/vampire_bat-0024.jpg del-ed | Project 1 - CV - Animal Image Classification/animals//vampire_bat/vampire_bat-0028.jpg del-ed | Project 1 - CV - Animal Image Classification/animals//vampire_bat/vampire_bat-0035.jpg del-ed | Project 1 - CV - Animal Image Classification/animals//vampire_bat/vampire_bat-0064.jpg del-ed | Project 1 - CV - Animal Image Classification/animals//vampire_bat/vampire_bat-0072.jpg del-ed | Project 1 - CV - Animal Image Classification/animals//vampire_bat/vampire_bat-0081.jpg del-ed | Project 1 - CV - Animal Image Classification/animals//vampire_bat/vampire_bat-0087.jpg del-ed | Project 1 - CV - Animal Image Classification/animals//vampire_bat/vampire_bat-0095.jpg del-ed | Project 1 - CV - Animal Image Classification/animals//vampire_bat/vampire_bat-0096.jpg del-ed | Project 1 - CV - Animal Image Classification/animals//vampire_bat/vampire_bat-0099.jpg del-ed | Project 1 - CV - Animal Image Classification/animals//vampire_bat/vampire_bat-0104.jpg del-ed | Project 1 - CV - Animal Image Classification/animals//vampire_bat/vampire_bat-0124.jpg del-ed | Project 1 - CV - Animal Image Classification/animals//vampire_bat/vampire_bat-0129.jpg del-ed | Project 1 - CV - Animal Image Classification/animals//vampire_bat/vampire_bat-0134.jpg del-ed | Project 1 - CV - Animal Image Classification/animals//vampire_bat/vampire_bat-0139.jpg del-ed | Project 1 - CV - Animal Image Classification/animals//vampire_bat/vampire_bat-0143.jpg del-ed | Project 1 - CV - Animal Image Classification/animals//vampire_bat/vampire_bat-0154.jpg del-ed | Project 1 - CV - Animal Image Classification/animals//vampire_bat/vampire_bat-0158.jpg del-ed | Project 1 - CV - Animal Image Classification/animals//vampire_bat/vampire_bat-0163.jpg del-ed | Project 1 - CV - Animal Image Classification/animals//vampire_bat/vampire_bat-0186.jpg del-ed | Project 1 - CV - Animal Image Classification/animals//vampire_bat/vampire_bat-0188.jpg del-ed | Project 1 - CV - Animal Image Classification/animals//vampire_bat/vampire_bat-0191.jpg del-ed | Project 1 - CV - Animal Image Classification/animals//vampire_bat/vampire_bat-0220.jpg del-ed | Project 1 - CV - Animal Image Classification/animals//vampire_bat/vampire_bat-0226.jpg del-ed | Project 1 - CV - Animal Image Classification/animals//vampire_bat/vampire_bat-0230.jpg del-ed | Project 1 - CV - Animal Image Classification/animals//sugar_glider/sugar_glider-0003.jpg del-ed | Project 1 - CV - Animal Image Classification/animals//sugar_glider/sugar_glider-0008.jpg del-ed | Project 1 - CV - Animal Image Classification/animals//sugar_glider/sugar_glider-0011.jpg del-ed | Project 1 - CV - Animal Image Classification/animals//sugar_glider/sugar_glider-0024.jpg del-ed | Project 1 - CV - Animal Image Classification/animals//sugar_glider/sugar_glider-0031.jpg del-ed | Project 1 - CV - Animal Image Classification/animals//sugar_glider/sugar_glider-0032.jpg del-ed | Project 1 - CV - Animal Image Classification/animals//sugar_glider/sugar_glider-0034.jpg del-ed | Project 1 - CV - Animal Image Classification/animals//sugar_glider/sugar_glider-0068.jpg del-ed | Project 1 - CV - Animal Image Classification/animals//sugar_glider/sugar_glider-0073.jpg del-ed | Project 1 - CV - Animal Image Classification/animals//sugar_glider/sugar_glider-0077.jpg del-ed | Project 1 - CV - Animal Image Classification/animals//sugar_glider/sugar_glider-0078.jpg del-ed | Project 1 - CV - Animal Image Classification/animals//sugar_glider/sugar_glider-0082.jpg del-ed | Project 1 - CV - Animal Image Classification/animals//sugar_glider/sugar_glider-0087.jpg del-ed | Project 1 - CV - Animal Image Classification/animals//sugar_glider/sugar_glider-0097.jpg del-ed | Project 1 - CV - Animal Image Classification/animals//sugar_glider/sugar_glider-0110.jpg del-ed | Project 1 - CV - Animal Image Classification/animals//sugar_glider/sugar_glider-0111.jpg del-ed | Project 1 - CV - Animal Image Classification/animals//sugar_glider/sugar_glider-0119.jpg del-ed | Project 1 - CV - Animal Image Classification/animals//sugar_glider/sugar_glider-0121.jpg del-ed | Project 1 - CV - Animal Image Classification/animals//sugar_glider/sugar_glider-0169.jpg del-ed | Project 1 - CV - Animal Image Classification/animals//sugar_glider/sugar_glider-0193.jpg del-ed | Project 1 - CV - Animal Image Classification/animals//sugar_glider/sugar_glider-0199.jpg del-ed | Project 1 - CV - Animal Image Classification/animals//sugar_glider/sugar_glider-0200.jpg del-ed | Project 1 - CV - Animal Image Classification/animals//sugar_glider/sugar_glider-0205.jpg del-ed | Project 1 - CV - Animal Image Classification/animals//sugar_glider/sugar_glider-0209.jpg del-ed | Project 1 - CV - Animal Image Classification/animals//sugar_glider/sugar_glider-0210.jpg del-ed | Project 1 - CV - Animal Image Classification/animals//sugar_glider/sugar_glider-0214.jpg del-ed | Project 1 - CV - Animal Image Classification/animals//sugar_glider/sugar_glider-0232.jpg del-ed | Project 1 - CV - Animal Image Classification/animals//sugar_glider/sugar_glider-0236.jpg del-ed | Project 1 - CV - Animal Image Classification/animals//sugar_glider/sugar_glider-0240.jpg del-ed | Project 1 - CV - Animal Image Classification/animals//sugar_glider/sugar_glider-0245.jpg del-ed | Project 1 - CV - Animal Image Classification/animals//sugar_glider/sugar_glider-0248.jpg del-ed | Project 1 - CV - Animal Image Classification/animals//sugar_glider/sugar_glider-0251.jpg del-ed | Project 1 - CV - Animal Image Classification/animals//brown_bear/brown_bear-0011.jpg del-ed | Project 1 - CV - Animal Image Classification/animals//brown_bear/brown_bear-0032.jpg del-ed | Project 1 - CV - Animal Image Classification/animals//brown_bear/brown_bear-0034.jpg del-ed | Project 1 - CV - Animal Image Classification/animals//brown_bear/brown_bear-0055.jpg del-ed | Project 1 - CV - Animal Image Classification/animals//brown_bear/brown_bear-0067.jpg del-ed | Project 1 - CV - Animal Image Classification/animals//brown_bear/brown_bear-0073.jpg del-ed | Project 1 - CV - Animal Image Classification/animals//brown_bear/brown_bear-0085.jpg del-ed | Project 1 - CV - Animal Image Classification/animals//brown_bear/brown_bear-0087.jpg del-ed | Project 1 - CV - Animal Image Classification/animals//brown_bear/brown_bear-0119.jpg del-ed | Project 1 - CV - Animal Image Classification/animals//brown_bear/brown_bear-0175.jpg del-ed | Project 1 - CV - Animal Image Classification/animals//brown_bear/brown_bear-0193.jpg del-ed | Project 1 - CV - Animal Image Classification/animals//brown_bear/brown_bear-0199.jpg del-ed | Project 1 - CV - Animal Image Classification/animals//brown_bear/brown_bear-0251.jpg del-ed | Project 1 - CV - Animal Image Classification/animals//brown_bear/brown_bear-0282.jpg del-ed | Project 1 - CV - Animal Image Classification/animals//brown_bear/brown_bear-0292.jpg del-ed | Project 1 - CV - Animal Image Classification/animals//brown_bear/brown_bear-0299.jpg del-ed | Project 1 - CV - Animal Image Classification/animals//mongoose/mongoose-0002.jpg del-ed | Project 1 - CV - Animal Image Classification/animals//mongoose/mongoose-0014.jpg del-ed | Project 1 - CV - Animal Image Classification/animals//mongoose/mongoose-0018.jpg del-ed | Project 1 - CV - Animal Image Classification/animals//mongoose/mongoose-0022.jpg del-ed | Project 1 - CV - Animal Image Classification/animals//mongoose/mongoose-0043.jpg del-ed | Project 1 - CV - Animal Image Classification/animals//mongoose/mongoose-0083.jpg del-ed | Project 1 - CV - Animal Image Classification/animals//mongoose/mongoose-0094.jpg del-ed | Project 1 - CV - Animal Image Classification/animals//mongoose/mongoose-0103.jpg del-ed | Project 1 - CV - Animal Image Classification/animals//mongoose/mongoose-0136.jpg del-ed | Project 1 - CV - Animal Image Classification/animals//mongoose/mongoose-0195.jpg del-ed | Project 1 - CV - Animal Image Classification/animals//mongoose/mongoose-0208.jpg del-ed | Project 1 - CV - Animal Image Classification/animals//mongoose/mongoose-0216.jpg del-ed | Project 1 - CV - Animal Image Classification/animals//mongoose/mongoose-0230.jpg del-ed | Project 1 - CV - Animal Image Classification/animals//mongoose/mongoose-0261.jpg del-ed | Project 1 - CV - Animal Image Classification/animals//mongoose/mongoose-0282.jpg del-ed | Project 1 - CV - Animal Image Classification/animals//dolphin/dolphin-0085.jpg del-ed | Project 1 - CV - Animal Image Classification/animals//dolphin/dolphin-0106.jpg del-ed | Project 1 - CV - Animal Image Classification/animals//dolphin/dolphin-0164.jpg del-ed | Project 1 - CV - Animal Image Classification/animals//dolphin/dolphin-0189.jpg del-ed | Project 1 - CV - Animal Image Classification/animals//dolphin/dolphin-0226.jpg del-ed | Project 1 - CV - Animal Image Classification/animals//dolphin/dolphin-0243.jpg del-ed | Project 1 - CV - Animal Image Classification/animals//dolphin/dolphin-0266.jpg del-ed | Project 1 - CV - Animal Image Classification/animals//dolphin/dolphin-0271.jpg del-ed | Project 1 - CV - Animal Image Classification/animals//weasel/weasel-0018.jpg del-ed | Project 1 - CV - Animal Image Classification/animals//weasel/weasel-0020.jpg del-ed | Project 1 - CV - Animal Image Classification/animals//weasel/weasel-0042.jpg del-ed | Project 1 - CV - Animal Image Classification/animals//weasel/weasel-0048.jpg del-ed | Project 1 - CV - Animal Image Classification/animals//weasel/weasel-0054.jpg del-ed | Project 1 - CV - Animal Image Classification/animals//weasel/weasel-0055.jpg del-ed | Project 1 - CV - Animal Image Classification/animals//weasel/weasel-0057.jpg del-ed | Project 1 - CV - Animal Image Classification/animals//weasel/weasel-0069.jpg del-ed | Project 1 - CV - Animal Image Classification/animals//weasel/weasel-0107.jpg del-ed | Project 1 - CV - Animal Image Classification/animals//weasel/weasel-0123.jpg del-ed | Project 1 - CV - Animal Image Classification/animals//weasel/weasel-0129.jpg del-ed | Project 1 - CV - Animal Image Classification/animals//weasel/weasel-0132.jpg del-ed | Project 1 - CV - Animal Image Classification/animals//weasel/weasel-0144.jpg del-ed | Project 1 - CV - Animal Image Classification/animals//weasel/weasel-0155.jpg del-ed | Project 1 - CV - Animal Image Classification/animals//weasel/weasel-0169.jpg del-ed | Project 1 - CV - Animal Image Classification/animals//weasel/weasel-0173.jpg del-ed | Project 1 - CV - Animal Image Classification/animals//weasel/weasel-0177.jpg del-ed | Project 1 - CV - Animal Image Classification/animals//weasel/weasel-0188.jpg del-ed | Project 1 - CV - Animal Image Classification/animals//weasel/weasel-0217.jpg del-ed | Project 1 - CV - Animal Image Classification/animals//weasel/weasel-0222.jpg del-ed | Project 1 - CV - Animal Image Classification/animals//weasel/weasel-0225.jpg del-ed | Project 1 - CV - Animal Image Classification/animals//weasel/weasel-0229.jpg del-ed | Project 1 - CV - Animal Image Classification/animals//weasel/weasel-0232.jpg del-ed | Project 1 - CV - Animal Image Classification/animals//weasel/weasel-0234.jpg del-ed | Project 1 - CV - Animal Image Classification/animals//weasel/weasel-0265.jpg del-ed | Project 1 - CV - Animal Image Classification/animals//weasel/weasel-0272.jpg del-ed | Project 1 - CV - Animal Image Classification/animals//weasel/weasel-0275.jpg del-ed | Project 1 - CV - Animal Image Classification/animals//weasel/weasel-0277.jpg del-ed | Project 1 - CV - Animal Image Classification/animals//weasel/weasel-0278.jpg del-ed | Project 1 - CV - Animal Image Classification/animals//wildebeest/wildebeest-0020.jpg del-ed | Project 1 - CV - Animal Image Classification/animals//wildebeest/wildebeest-0021.jpg del-ed | Project 1 - CV - Animal Image Classification/animals//wildebeest/wildebeest-0038.jpg del-ed | Project 1 - CV - Animal Image Classification/animals//wildebeest/wildebeest-0039.jpg del-ed | Project 1 - CV - Animal Image Classification/animals//wildebeest/wildebeest-0064.jpg del-ed | Project 1 - CV - Animal Image Classification/animals//wildebeest/wildebeest-0065.jpg del-ed | Project 1 - CV - Animal Image Classification/animals//wildebeest/wildebeest-0080.jpg del-ed | Project 1 - CV - Animal Image Classification/animals//wildebeest/wildebeest-0097.jpg del-ed | Project 1 - CV - Animal Image Classification/animals//wildebeest/wildebeest-0100.jpg del-ed | Project 1 - CV - Animal Image Classification/animals//wildebeest/wildebeest-0108.jpg del-ed | Project 1 - CV - Animal Image Classification/animals//wildebeest/wildebeest-0116.jpg del-ed | Project 1 - CV - Animal Image Classification/animals//wildebeest/wildebeest-0118.jpg del-ed | Project 1 - CV - Animal Image Classification/animals//wildebeest/wildebeest-0120.jpg del-ed | Project 1 - CV - Animal Image Classification/animals//wildebeest/wildebeest-0137.jpg del-ed | Project 1 - CV - Animal Image Classification/animals//wildebeest/wildebeest-0139.jpg del-ed | Project 1 - CV - Animal Image Classification/animals//wildebeest/wildebeest-0166.jpg del-ed | Project 1 - CV - Animal Image Classification/animals//wildebeest/wildebeest-0184.jpg del-ed | Project 1 - CV - Animal Image Classification/animals//wildebeest/wildebeest-0186.jpg del-ed | Project 1 - CV - Animal Image Classification/animals//wildebeest/wildebeest-0189.jpg del-ed | Project 1 - CV - Animal Image Classification/animals//wildebeest/wildebeest-0214.jpg del-ed | Project 1 - CV - Animal Image Classification/animals//wildebeest/wildebeest-0217.jpg del-ed | Project 1 - CV - Animal Image Classification/animals//wildebeest/wildebeest-0250.jpg del-ed | Project 1 - CV - Animal Image Classification/animals//wildebeest/wildebeest-0251.jpg del-ed | Project 1 - CV - Animal Image Classification/animals//wildebeest/wildebeest-0259.jpg del-ed | Project 1 - CV - Animal Image Classification/animals//wildebeest/wildebeest-0268.jpg del-ed | Project 1 - CV - Animal Image Classification/animals//wildebeest/wildebeest-0270.jpg del-ed | Project 1 - CV - Animal Image Classification/animals//wildebeest/wildebeest-0272.jpg del-ed | Project 1 - CV - Animal Image Classification/animals//wildebeest/wildebeest-0294.jpg del-ed | Project 1 - CV - Animal Image Classification/animals//wildebeest/wildebeest-0302.jpg del-ed | Project 1 - CV - Animal Image Classification/animals//sea_lion/sea_lion-0024.jpg del-ed | Project 1 - CV - Animal Image Classification/animals//sea_lion/sea_lion-0040.jpg del-ed | Project 1 - CV - Animal Image Classification/animals//sea_lion/sea_lion-0045.jpg del-ed | Project 1 - CV - Animal Image Classification/animals//sea_lion/sea_lion-0055.jpg del-ed | Project 1 - CV - Animal Image Classification/animals//sea_lion/sea_lion-0061.jpg del-ed | Project 1 - CV - Animal Image Classification/animals//sea_lion/sea_lion-0064.jpg del-ed | Project 1 - CV - Animal Image Classification/animals//sea_lion/sea_lion-0071.jpg del-ed | Project 1 - CV - Animal Image Classification/animals//sea_lion/sea_lion-0079.jpg del-ed | Project 1 - CV - Animal Image Classification/animals//sea_lion/sea_lion-0087.jpg del-ed | Project 1 - CV - Animal Image Classification/animals//sea_lion/sea_lion-0108.jpg del-ed | Project 1 - CV - Animal Image Classification/animals//sea_lion/sea_lion-0121.jpg del-ed | Project 1 - CV - Animal Image Classification/animals//sea_lion/sea_lion-0140.jpg del-ed | Project 1 - CV - Animal Image Classification/animals//sea_lion/sea_lion-0159.jpg del-ed | Project 1 - CV - Animal Image Classification/animals//sea_lion/sea_lion-0199.jpg del-ed | Project 1 - CV - Animal Image Classification/animals//sea_lion/sea_lion-0210.jpg del-ed | Project 1 - CV - Animal Image Classification/animals//sea_lion/sea_lion-0211.jpg del-ed | Project 1 - CV - Animal Image Classification/animals//sea_lion/sea_lion-0222.jpg del-ed | Project 1 - CV - Animal Image Classification/animals//sea_lion/sea_lion-0238.jpg del-ed | Project 1 - CV - Animal Image Classification/animals//sea_lion/sea_lion-0245.jpg del-ed | Project 1 - CV - Animal Image Classification/animals//sea_lion/sea_lion-0250.jpg del-ed | Project 1 - CV - Animal Image Classification/animals//sea_lion/sea_lion-0262.jpg del-ed | Project 1 - CV - Animal Image Classification/animals//sea_lion/sea_lion-0266.jpg del-ed | Project 1 - CV - Animal Image Classification/animals//sea_lion/sea_lion-0278.jpg del-ed | Project 1 - CV - Animal Image Classification/animals//sea_lion/sea_lion-0282.jpg del-ed | Project 1 - CV - Animal Image Classification/animals//sea_lion/sea_lion-0287.jpg del-ed | Project 1 - CV - Animal Image Classification/animals//sea_lion/sea_lion-0291.jpg del-ed | Project 1 - CV - Animal Image Classification/animals//sea_lion/sea_lion-0295.jpg del-ed | Project 1 - CV - Animal Image Classification/animals//sea_lion/sea_lion-0297.jpg del-ed | Project 1 - CV - Animal Image Classification/animals//sea_lion/sea_lion-0299.jpg del-ed | Project 1 - CV - Animal Image Classification/animals//sea_lion/sea_lion-0306.jpg del-ed | Project 1 - CV - Animal Image Classification/animals//sea_lion/sea_lion-0311.jpg del-ed | Project 1 - CV - Animal Image Classification/animals//sea_lion/sea_lion-0315.jpg del-ed | Project 1 - CV - Animal Image Classification/animals//sea_lion/sea_lion-0319.jpg del-ed | Project 1 - CV - Animal Image Classification/animals//sea_lion/sea_lion-0322.jpg del-ed | Project 1 - CV - Animal Image Classification/animals//sea_lion/sea_lion-0332.jpg del-ed | Project 1 - CV - Animal Image Classification/animals//alpaca/alpaca-0016.jpg del-ed | Project 1 - CV - Animal Image Classification/animals//alpaca/alpaca-0065.jpg del-ed | Project 1 - CV - Animal Image Classification/animals//alpaca/alpaca-0093.jpg del-ed | Project 1 - CV - Animal Image Classification/animals//alpaca/alpaca-0101.jpg del-ed | Project 1 - CV - Animal Image Classification/animals//alpaca/alpaca-0107.jpg del-ed | Project 1 - CV - Animal Image Classification/animals//alpaca/alpaca-0118.jpg del-ed | Project 1 - CV - Animal Image Classification/animals//alpaca/alpaca-0131.jpg del-ed | Project 1 - CV - Animal Image Classification/animals//alpaca/alpaca-0136.jpg del-ed | Project 1 - CV - Animal Image Classification/animals//alpaca/alpaca-0148.jpg del-ed | Project 1 - CV - Animal Image Classification/animals//alpaca/alpaca-0154.jpg del-ed | Project 1 - CV - Animal Image Classification/animals//alpaca/alpaca-0172.jpg del-ed | Project 1 - CV - Animal Image Classification/animals//alpaca/alpaca-0179.jpg del-ed | Project 1 - CV - Animal Image Classification/animals//alpaca/alpaca-0189.jpg del-ed | Project 1 - CV - Animal Image Classification/animals//alpaca/alpaca-0195.jpg del-ed | Project 1 - CV - Animal Image Classification/animals//alpaca/alpaca-0197.jpg del-ed | Project 1 - CV - Animal Image Classification/animals//alpaca/alpaca-0202.jpg del-ed | Project 1 - CV - Animal Image Classification/animals//alpaca/alpaca-0206.jpg del-ed | Project 1 - CV - Animal Image Classification/animals//alpaca/alpaca-0222.jpg del-ed | Project 1 - CV - Animal Image Classification/animals//alpaca/alpaca-0248.jpg del-ed | Project 1 - CV - Animal Image Classification/animals//alpaca/alpaca-0249.jpg del-ed | Project 1 - CV - Animal Image Classification/animals//alpaca/alpaca-0265.jpg del-ed | Project 1 - CV - Animal Image Classification/animals//alpaca/alpaca-0275.jpg del-ed | Project 1 - CV - Animal Image Classification/animals//alpaca/alpaca-0297.jpg del-ed | Project 1 - CV - Animal Image Classification/animals//alpaca/alpaca-0306.jpg del-ed | Project 1 - CV - Animal Image Classification/animals//alpaca/alpaca-0321.jpg del-ed | Project 1 - CV - Animal Image Classification/animals//alpaca/alpaca-0333.jpg del-ed | Project 1 - CV - Animal Image Classification/animals//badger/badger-0003.jpg del-ed | Project 1 - CV - Animal Image Classification/animals//badger/badger-0005.jpg del-ed | Project 1 - CV - Animal Image Classification/animals//badger/badger-0022.jpg del-ed | Project 1 - CV - Animal Image Classification/animals//badger/badger-0028.jpg del-ed | Project 1 - CV - Animal Image Classification/animals//badger/badger-0041.jpg del-ed | Project 1 - CV - Animal Image Classification/animals//badger/badger-0048.jpg del-ed | Project 1 - CV - Animal Image Classification/animals//badger/badger-0076.jpg del-ed | Project 1 - CV - Animal Image Classification/animals//badger/badger-0080.jpg del-ed | Project 1 - CV - Animal Image Classification/animals//badger/badger-0096.jpg del-ed | Project 1 - CV - Animal Image Classification/animals//badger/badger-0100.jpg del-ed | Project 1 - CV - Animal Image Classification/animals//badger/badger-0121.jpg del-ed | Project 1 - CV - Animal Image Classification/animals//badger/badger-0135.jpg del-ed | Project 1 - CV - Animal Image Classification/animals//badger/badger-0139.jpg del-ed | Project 1 - CV - Animal Image Classification/animals//badger/badger-0157.jpg del-ed | Project 1 - CV - Animal Image Classification/animals//badger/badger-0170.jpg del-ed | Project 1 - CV - Animal Image Classification/animals//badger/badger-0197.jpg del-ed | Project 1 - CV - Animal Image Classification/animals//badger/badger-0206.jpg del-ed | Project 1 - CV - Animal Image Classification/animals//badger/badger-0239.jpg del-ed | Project 1 - CV - Animal Image Classification/animals//badger/badger-0247.jpg del-ed | Project 1 - CV - Animal Image Classification/animals//badger/badger-0252.jpg del-ed | Project 1 - CV - Animal Image Classification/animals//badger/badger-0262.jpg del-ed | Project 1 - CV - Animal Image Classification/animals//badger/badger-0276.jpg del-ed | Project 1 - CV - Animal Image Classification/animals//badger/badger-0284.jpg del-ed | Project 1 - CV - Animal Image Classification/animals//badger/badger-0291.jpg del-ed | Project 1 - CV - Animal Image Classification/animals//badger/badger-0300.jpg del-ed | Project 1 - CV - Animal Image Classification/animals//manatee/manatee-0008.jpg del-ed | Project 1 - CV - Animal Image Classification/animals//manatee/manatee-0009.jpg del-ed | Project 1 - CV - Animal Image Classification/animals//manatee/manatee-0037.jpg del-ed | Project 1 - CV - Animal Image Classification/animals//manatee/manatee-0041.jpg del-ed | Project 1 - CV - Animal Image Classification/animals//manatee/manatee-0052.jpg del-ed | Project 1 - CV - Animal Image Classification/animals//manatee/manatee-0064.jpg del-ed | Project 1 - CV - Animal Image Classification/animals//manatee/manatee-0076.jpg del-ed | Project 1 - CV - Animal Image Classification/animals//manatee/manatee-0080.jpg del-ed | Project 1 - CV - Animal Image Classification/animals//manatee/manatee-0147.jpg del-ed | Project 1 - CV - Animal Image Classification/animals//manatee/manatee-0179.jpg del-ed | Project 1 - CV - Animal Image Classification/animals//manatee/manatee-0263.jpg del-ed | Project 1 - CV - Animal Image Classification/animals//manatee/manatee-0279.jpg del-ed | Project 1 - CV - Animal Image Classification/animals//manatee/manatee-0299.jpg del-ed | Project 1 - CV - Animal Image Classification/animals//manatee/manatee-0316.jpg del-ed | Project 1 - CV - Animal Image Classification/animals//manatee/manatee-0317.jpg del-ed | Project 1 - CV - Animal Image Classification/animals//koala/koala-0061.jpg del-ed | Project 1 - CV - Animal Image Classification/animals//koala/koala-0066.jpg del-ed | Project 1 - CV - Animal Image Classification/animals//koala/koala-0073.jpg del-ed | Project 1 - CV - Animal Image Classification/animals//koala/koala-0083.jpg del-ed | Project 1 - CV - Animal Image Classification/animals//koala/koala-0087.jpg del-ed | Project 1 - CV - Animal Image Classification/animals//koala/koala-0110.jpg del-ed | Project 1 - CV - Animal Image Classification/animals//koala/koala-0111.jpg del-ed | Project 1 - CV - Animal Image Classification/animals//koala/koala-0138.jpg del-ed | Project 1 - CV - Animal Image Classification/animals//koala/koala-0159.jpg del-ed | Project 1 - CV - Animal Image Classification/animals//koala/koala-0169.jpg del-ed | Project 1 - CV - Animal Image Classification/animals//koala/koala-0193.jpg del-ed | Project 1 - CV - Animal Image Classification/animals//koala/koala-0199.jpg del-ed | Project 1 - CV - Animal Image Classification/animals//koala/koala-0211.jpg del-ed | Project 1 - CV - Animal Image Classification/animals//koala/koala-0216.jpg del-ed | Project 1 - CV - Animal Image Classification/animals//koala/koala-0266.jpg del-ed | Project 1 - CV - Animal Image Classification/animals//koala/koala-0281.jpg del-ed | Project 1 - CV - Animal Image Classification/animals//koala/koala-0303.jpg del-ed | Project 1 - CV - Animal Image Classification/animals//koala/koala-0310.jpg del-ed | Project 1 - CV - Animal Image Classification/animals//koala/koala-0319.jpg del-ed | Project 1 - CV - Animal Image Classification/animals//mountain_goat/mountain_goat-0055.jpg del-ed | Project 1 - CV - Animal Image Classification/animals//mountain_goat/mountain_goat-0061.jpg del-ed | Project 1 - CV - Animal Image Classification/animals//mountain_goat/mountain_goat-0067.jpg del-ed | Project 1 - CV - Animal Image Classification/animals//mountain_goat/mountain_goat-0071.jpg del-ed | Project 1 - CV - Animal Image Classification/animals//mountain_goat/mountain_goat-0079.jpg del-ed | Project 1 - CV - Animal Image Classification/animals//mountain_goat/mountain_goat-0087.jpg del-ed | Project 1 - CV - Animal Image Classification/animals//mountain_goat/mountain_goat-0097.jpg del-ed | Project 1 - CV - Animal Image Classification/animals//mountain_goat/mountain_goat-0111.jpg del-ed | Project 1 - CV - Animal Image Classification/animals//mountain_goat/mountain_goat-0175.jpg del-ed | Project 1 - CV - Animal Image Classification/animals//mountain_goat/mountain_goat-0200.jpg del-ed | Project 1 - CV - Animal Image Classification/animals//mountain_goat/mountain_goat-0209.jpg del-ed | Project 1 - CV - Animal Image Classification/animals//mountain_goat/mountain_goat-0214.jpg del-ed | Project 1 - CV - Animal Image Classification/animals//mountain_goat/mountain_goat-0219.jpg del-ed | Project 1 - CV - Animal Image Classification/animals//mountain_goat/mountain_goat-0238.jpg del-ed | Project 1 - CV - Animal Image Classification/animals//mountain_goat/mountain_goat-0248.jpg del-ed | Project 1 - CV - Animal Image Classification/animals//mountain_goat/mountain_goat-0250.jpg del-ed | Project 1 - CV - Animal Image Classification/animals//mountain_goat/mountain_goat-0278.jpg del-ed | Project 1 - CV - Animal Image Classification/animals//mountain_goat/mountain_goat-0282.jpg del-ed | Project 1 - CV - Animal Image Classification/animals//mountain_goat/mountain_goat-0299.jpg del-ed | Project 1 - CV - Animal Image Classification/animals//mountain_goat/mountain_goat-0307.jpg del-ed | Project 1 - CV - Animal Image Classification/animals//mountain_goat/mountain_goat-0310.jpg del-ed | Project 1 - CV - Animal Image Classification/animals//mountain_goat/mountain_goat-0319.jpg del-ed | Project 1 - CV - Animal Image Classification/animals//vicuna/vicuna-0003.jpg del-ed | Project 1 - CV - Animal Image Classification/animals//vicuna/vicuna-0008.jpg del-ed | Project 1 - CV - Animal Image Classification/animals//vicuna/vicuna-0031.jpg del-ed | Project 1 - CV - Animal Image Classification/animals//vicuna/vicuna-0034.jpg del-ed | Project 1 - CV - Animal Image Classification/animals//vicuna/vicuna-0050.jpg del-ed | Project 1 - CV - Animal Image Classification/animals//vicuna/vicuna-0061.jpg del-ed | Project 1 - CV - Animal Image Classification/animals//vicuna/vicuna-0073.jpg del-ed | Project 1 - CV - Animal Image Classification/animals//vicuna/vicuna-0079.jpg del-ed | Project 1 - CV - Animal Image Classification/animals//vicuna/vicuna-0080.jpg del-ed | Project 1 - CV - Animal Image Classification/animals//vicuna/vicuna-0085.jpg del-ed | Project 1 - CV - Animal Image Classification/animals//vicuna/vicuna-0091.jpg del-ed | Project 1 - CV - Animal Image Classification/animals//vicuna/vicuna-0102.jpg del-ed | Project 1 - CV - Animal Image Classification/animals//vicuna/vicuna-0121.jpg del-ed | Project 1 - CV - Animal Image Classification/animals//vicuna/vicuna-0149.jpg del-ed | Project 1 - CV - Animal Image Classification/animals//vicuna/vicuna-0159.jpg del-ed | Project 1 - CV - Animal Image Classification/animals//vicuna/vicuna-0165.jpg del-ed | Project 1 - CV - Animal Image Classification/animals//vicuna/vicuna-0182.jpg del-ed | Project 1 - CV - Animal Image Classification/animals//vicuna/vicuna-0200.jpg del-ed | Project 1 - CV - Animal Image Classification/animals//vicuna/vicuna-0211.jpg del-ed | Project 1 - CV - Animal Image Classification/animals//vicuna/vicuna-0212.jpg del-ed | Project 1 - CV - Animal Image Classification/animals//warthog/warthog-0003.jpg del-ed | Project 1 - CV - Animal Image Classification/animals//warthog/warthog-0038.jpg del-ed | Project 1 - CV - Animal Image Classification/animals//warthog/warthog-0054.jpg del-ed | Project 1 - CV - Animal Image Classification/animals//warthog/warthog-0061.jpg del-ed | Project 1 - CV - Animal Image Classification/animals//warthog/warthog-0072.jpg del-ed | Project 1 - CV - Animal Image Classification/animals//warthog/warthog-0093.jpg del-ed | Project 1 - CV - Animal Image Classification/animals//warthog/warthog-0101.jpg del-ed | Project 1 - CV - Animal Image Classification/animals//warthog/warthog-0107.jpg del-ed | Project 1 - CV - Animal Image Classification/animals//warthog/warthog-0132.jpg del-ed | Project 1 - CV - Animal Image Classification/animals//warthog/warthog-0136.jpg del-ed | Project 1 - CV - Animal Image Classification/animals//warthog/warthog-0141.jpg del-ed | Project 1 - CV - Animal Image Classification/animals//warthog/warthog-0178.jpg del-ed | Project 1 - CV - Animal Image Classification/animals//warthog/warthog-0184.jpg del-ed | Project 1 - CV - Animal Image Classification/animals//warthog/warthog-0203.jpg del-ed | Project 1 - CV - Animal Image Classification/animals//warthog/warthog-0226.jpg del-ed | Project 1 - CV - Animal Image Classification/animals//warthog/warthog-0237.jpg del-ed | Project 1 - CV - Animal Image Classification/animals//warthog/warthog-0243.jpg del-ed | Project 1 - CV - Animal Image Classification/animals//warthog/warthog-0250.jpg del-ed | Project 1 - CV - Animal Image Classification/animals//warthog/warthog-0256.jpg del-ed | Project 1 - CV - Animal Image Classification/animals//blue_whale/blue_whale-0139.jpg del-ed | Project 1 - CV - Animal Image Classification/animals//blue_whale/blue_whale-0187.jpg del-ed | Project 1 - CV - Animal Image Classification/animals//blue_whale/blue_whale-0194.jpg del-ed | Project 1 - CV - Animal Image Classification/animals//blue_whale/blue_whale-0223.jpg del-ed | Project 1 - CV - Animal Image Classification/animals//tapir/tapir-0002.jpg del-ed | Project 1 - CV - Animal Image Classification/animals//tapir/tapir-0008.jpg del-ed | Project 1 - CV - Animal Image Classification/animals//tapir/tapir-0029.jpg del-ed | Project 1 - CV - Animal Image Classification/animals//tapir/tapir-0044.jpg del-ed | Project 1 - CV - Animal Image Classification/animals//tapir/tapir-0054.jpg del-ed | Project 1 - CV - Animal Image Classification/animals//tapir/tapir-0057.jpg del-ed | Project 1 - CV - Animal Image Classification/animals//tapir/tapir-0075.jpg del-ed | Project 1 - CV - Animal Image Classification/animals//tapir/tapir-0076.jpg del-ed | Project 1 - CV - Animal Image Classification/animals//tapir/tapir-0077.jpg del-ed | Project 1 - CV - Animal Image Classification/animals//tapir/tapir-0090.jpg del-ed | Project 1 - CV - Animal Image Classification/animals//tapir/tapir-0098.jpg del-ed | Project 1 - CV - Animal Image Classification/animals//tapir/tapir-0103.jpg del-ed | Project 1 - CV - Animal Image Classification/animals//tapir/tapir-0105.jpg del-ed | Project 1 - CV - Animal Image Classification/animals//tapir/tapir-0108.jpg del-ed | Project 1 - CV - Animal Image Classification/animals//tapir/tapir-0111.jpg del-ed | Project 1 - CV - Animal Image Classification/animals//tapir/tapir-0130.jpg del-ed | Project 1 - CV - Animal Image Classification/animals//tapir/tapir-0142.jpg del-ed | Project 1 - CV - Animal Image Classification/animals//tapir/tapir-0157.jpg del-ed | Project 1 - CV - Animal Image Classification/animals//tapir/tapir-0160.jpg del-ed | Project 1 - CV - Animal Image Classification/animals//tapir/tapir-0176.jpg del-ed | Project 1 - CV - Animal Image Classification/animals//tapir/tapir-0187.jpg del-ed | Project 1 - CV - Animal Image Classification/animals//tapir/tapir-0196.jpg del-ed | Project 1 - CV - Animal Image Classification/animals//tapir/tapir-0212.jpg del-ed | Project 1 - CV - Animal Image Classification/animals//tapir/tapir-0234.jpg del-ed | Project 1 - CV - Animal Image Classification/animals//tapir/tapir-0255.jpg del-ed | Project 1 - CV - Animal Image Classification/animals//tapir/tapir-0264.jpg del-ed | Project 1 - CV - Animal Image Classification/animals//tapir/tapir-0271.jpg del-ed | Project 1 - CV - Animal Image Classification/animals//tapir/tapir-0277.jpg del-ed | Project 1 - CV - Animal Image Classification/animals//tapir/tapir-0281.jpg del-ed | Project 1 - CV - Animal Image Classification/animals//tapir/tapir-0285.jpg del-ed | Project 1 - CV - Animal Image Classification/animals//tapir/tapir-0289.jpg del-ed | Project 1 - CV - Animal Image Classification/animals//tapir/tapir-0297.jpg del-ed | Project 1 - CV - Animal Image Classification/animals//tapir/tapir-0317.jpg del-ed | Project 1 - CV - Animal Image Classification/animals//arctic_fox/arctic_fox-0025.jpg del-ed | Project 1 - CV - Animal Image Classification/animals//arctic_fox/arctic_fox-0044.jpg del-ed | Project 1 - CV - Animal Image Classification/animals//arctic_fox/arctic_fox-0054.jpg del-ed | Project 1 - CV - Animal Image Classification/animals//arctic_fox/arctic_fox-0063.jpg del-ed | Project 1 - CV - Animal Image Classification/animals//arctic_fox/arctic_fox-0072.jpg del-ed | Project 1 - CV - Animal Image Classification/animals//arctic_fox/arctic_fox-0090.jpg del-ed | Project 1 - CV - Animal Image Classification/animals//arctic_fox/arctic_fox-0113.jpg del-ed | Project 1 - CV - Animal Image Classification/animals//arctic_fox/arctic_fox-0126.jpg del-ed | Project 1 - CV - Animal Image Classification/animals//arctic_fox/arctic_fox-0155.jpg del-ed | Project 1 - CV - Animal Image Classification/animals//arctic_fox/arctic_fox-0183.jpg del-ed | Project 1 - CV - Animal Image Classification/animals//arctic_fox/arctic_fox-0203.jpg del-ed | Project 1 - CV - Animal Image Classification/animals//arctic_fox/arctic_fox-0224.jpg del-ed | Project 1 - CV - Animal Image Classification/animals//arctic_fox/arctic_fox-0240.jpg del-ed | Project 1 - CV - Animal Image Classification/animals//arctic_fox/arctic_fox-0243.jpg del-ed | Project 1 - CV - Animal Image Classification/animals//arctic_fox/arctic_fox-0245.jpg del-ed | Project 1 - CV - Animal Image Classification/animals//arctic_fox/arctic_fox-0299.jpg del-ed | Project 1 - CV - Animal Image Classification/animals//giraffe/giraffe-0024.jpg del-ed | Project 1 - CV - Animal Image Classification/animals//giraffe/giraffe-0032.jpg del-ed | Project 1 - CV - Animal Image Classification/animals//giraffe/giraffe-0050.jpg del-ed | Project 1 - CV - Animal Image Classification/animals//giraffe/giraffe-0064.jpg del-ed | Project 1 - CV - Animal Image Classification/animals//giraffe/giraffe-0067.jpg del-ed | Project 1 - CV - Animal Image Classification/animals//giraffe/giraffe-0068.jpg del-ed | Project 1 - CV - Animal Image Classification/animals//giraffe/giraffe-0071.jpg del-ed | Project 1 - CV - Animal Image Classification/animals//giraffe/giraffe-0073.jpg del-ed | Project 1 - CV - Animal Image Classification/animals//giraffe/giraffe-0077.jpg del-ed | Project 1 - CV - Animal Image Classification/animals//giraffe/giraffe-0078.jpg del-ed | Project 1 - CV - Animal Image Classification/animals//giraffe/giraffe-0079.jpg del-ed | Project 1 - CV - Animal Image Classification/animals//giraffe/giraffe-0097.jpg del-ed | Project 1 - CV - Animal Image Classification/animals//giraffe/giraffe-0111.jpg del-ed | Project 1 - CV - Animal Image Classification/animals//giraffe/giraffe-0121.jpg del-ed | Project 1 - CV - Animal Image Classification/animals//giraffe/giraffe-0138.jpg del-ed | Project 1 - CV - Animal Image Classification/animals//giraffe/giraffe-0142.jpg del-ed | Project 1 - CV - Animal Image Classification/animals//giraffe/giraffe-0159.jpg del-ed | Project 1 - CV - Animal Image Classification/animals//giraffe/giraffe-0169.jpg del-ed | Project 1 - CV - Animal Image Classification/animals//giraffe/giraffe-0199.jpg del-ed | Project 1 - CV - Animal Image Classification/animals//giraffe/giraffe-0214.jpg del-ed | Project 1 - CV - Animal Image Classification/animals//giraffe/giraffe-0216.jpg del-ed | Project 1 - CV - Animal Image Classification/animals//giraffe/giraffe-0219.jpg del-ed | Project 1 - CV - Animal Image Classification/animals//giraffe/giraffe-0232.jpg del-ed | Project 1 - CV - Animal Image Classification/animals//giraffe/giraffe-0251.jpg del-ed | Project 1 - CV - Animal Image Classification/animals//giraffe/giraffe-0262.jpg del-ed | Project 1 - CV - Animal Image Classification/animals//giraffe/giraffe-0266.jpg del-ed | Project 1 - CV - Animal Image Classification/animals//giraffe/giraffe-0267.jpg del-ed | Project 1 - CV - Animal Image Classification/animals//giraffe/giraffe-0291.jpg del-ed | Project 1 - CV - Animal Image Classification/animals//giraffe/giraffe-0293.jpg del-ed | Project 1 - CV - Animal Image Classification/animals//jackal/jackal-0010.jpg del-ed | Project 1 - CV - Animal Image Classification/animals//jackal/jackal-0014.jpg del-ed | Project 1 - CV - Animal Image Classification/animals//jackal/jackal-0017.jpg del-ed | Project 1 - CV - Animal Image Classification/animals//jackal/jackal-0019.jpg del-ed | Project 1 - CV - Animal Image Classification/animals//jackal/jackal-0024.jpg del-ed | Project 1 - CV - Animal Image Classification/animals//jackal/jackal-0025.jpg del-ed | Project 1 - CV - Animal Image Classification/animals//jackal/jackal-0029.jpg del-ed | Project 1 - CV - Animal Image Classification/animals//jackal/jackal-0030.jpg del-ed | Project 1 - CV - Animal Image Classification/animals//jackal/jackal-0040.jpg del-ed | Project 1 - CV - Animal Image Classification/animals//jackal/jackal-0042.jpg del-ed | Project 1 - CV - Animal Image Classification/animals//jackal/jackal-0048.jpg del-ed | Project 1 - CV - Animal Image Classification/animals//jackal/jackal-0059.jpg del-ed | Project 1 - CV - Animal Image Classification/animals//jackal/jackal-0060.jpg del-ed | Project 1 - CV - Animal Image Classification/animals//jackal/jackal-0061.jpg del-ed | Project 1 - CV - Animal Image Classification/animals//jackal/jackal-0065.jpg del-ed | Project 1 - CV - Animal Image Classification/animals//jackal/jackal-0066.jpg del-ed | Project 1 - CV - Animal Image Classification/animals//jackal/jackal-0068.jpg del-ed | Project 1 - CV - Animal Image Classification/animals//jackal/jackal-0073.jpg del-ed | Project 1 - CV - Animal Image Classification/animals//jackal/jackal-0078.jpg del-ed | Project 1 - CV - Animal Image Classification/animals//jackal/jackal-0107.jpg del-ed | Project 1 - CV - Animal Image Classification/animals//jackal/jackal-0114.jpg del-ed | Project 1 - CV - Animal Image Classification/animals//jackal/jackal-0122.jpg del-ed | Project 1 - CV - Animal Image Classification/animals//jackal/jackal-0123.jpg del-ed | Project 1 - CV - Animal Image Classification/animals//jackal/jackal-0126.jpg del-ed | Project 1 - CV - Animal Image Classification/animals//jackal/jackal-0142.jpg del-ed | Project 1 - CV - Animal Image Classification/animals//jackal/jackal-0144.jpg del-ed | Project 1 - CV - Animal Image Classification/animals//jackal/jackal-0146.jpg del-ed | Project 1 - CV - Animal Image Classification/animals//jackal/jackal-0147.jpg del-ed | Project 1 - CV - Animal Image Classification/animals//jackal/jackal-0148.jpg del-ed | Project 1 - CV - Animal Image Classification/animals//jackal/jackal-0160.jpg del-ed | Project 1 - CV - Animal Image Classification/animals//jackal/jackal-0165.jpg del-ed | Project 1 - CV - Animal Image Classification/animals//jackal/jackal-0171.jpg del-ed | Project 1 - CV - Animal Image Classification/animals//jackal/jackal-0175.jpg del-ed | Project 1 - CV - Animal Image Classification/animals//jackal/jackal-0176.jpg del-ed | Project 1 - CV - Animal Image Classification/animals//jackal/jackal-0180.jpg del-ed | Project 1 - CV - Animal Image Classification/animals//jackal/jackal-0191.jpg del-ed | Project 1 - CV - Animal Image Classification/animals//jackal/jackal-0193.jpg del-ed | Project 1 - CV - Animal Image Classification/animals//jackal/jackal-0198.jpg del-ed | Project 1 - CV - Animal Image Classification/animals//jackal/jackal-0211.jpg del-ed | Project 1 - CV - Animal Image Classification/animals//jackal/jackal-0212.jpg del-ed | Project 1 - CV - Animal Image Classification/animals//jackal/jackal-0221.jpg del-ed | Project 1 - CV - Animal Image Classification/animals//jackal/jackal-0227.jpg del-ed | Project 1 - CV - Animal Image Classification/animals//jackal/jackal-0229.jpg del-ed | Project 1 - CV - Animal Image Classification/animals//jackal/jackal-0239.jpg del-ed | Project 1 - CV - Animal Image Classification/animals//jackal/jackal-0241.jpg del-ed | Project 1 - CV - Animal Image Classification/animals//jackal/jackal-0245.jpg del-ed | Project 1 - CV - Animal Image Classification/animals//jackal/jackal-0274.jpg del-ed | Project 1 - CV - Animal Image Classification/animals//jackal/jackal-0278.jpg del-ed | Project 1 - CV - Animal Image Classification/animals//orangutan/orangutan-0031.jpg del-ed | Project 1 - CV - Animal Image Classification/animals//orangutan/orangutan-0036.jpg del-ed | Project 1 - CV - Animal Image Classification/animals//orangutan/orangutan-0110.jpg del-ed | Project 1 - CV - Animal Image Classification/animals//orangutan/orangutan-0124.jpg del-ed | Project 1 - CV - Animal Image Classification/animals//orangutan/orangutan-0130.jpg del-ed | Project 1 - CV - Animal Image Classification/animals//orangutan/orangutan-0156.jpg del-ed | Project 1 - CV - Animal Image Classification/animals//orangutan/orangutan-0167.jpg del-ed | Project 1 - CV - Animal Image Classification/animals//orangutan/orangutan-0177.jpg del-ed | Project 1 - CV - Animal Image Classification/animals//orangutan/orangutan-0180.jpg del-ed | Project 1 - CV - Animal Image Classification/animals//orangutan/orangutan-0208.jpg del-ed | Project 1 - CV - Animal Image Classification/animals//orangutan/orangutan-0232.jpg del-ed | Project 1 - CV - Animal Image Classification/animals//orangutan/orangutan-0270.jpg del-ed | Project 1 - CV - Animal Image Classification/animals//orangutan/orangutan-0284.jpg del-ed | Project 1 - CV - Animal Image Classification/animals//orangutan/orangutan-0336.jpg del-ed | Project 1 - CV - Animal Image Classification/animals//groundhog/groundhog-0001.jpg del-ed | Project 1 - CV - Animal Image Classification/animals//groundhog/groundhog-0006.jpg del-ed | Project 1 - CV - Animal Image Classification/animals//groundhog/groundhog-0007.jpg del-ed | Project 1 - CV - Animal Image Classification/animals//groundhog/groundhog-0012.jpg del-ed | Project 1 - CV - Animal Image Classification/animals//groundhog/groundhog-0015.jpg del-ed | Project 1 - CV - Animal Image Classification/animals//groundhog/groundhog-0022.jpg del-ed | Project 1 - CV - Animal Image Classification/animals//groundhog/groundhog-0024.jpg del-ed | Project 1 - CV - Animal Image Classification/animals//groundhog/groundhog-0027.jpg del-ed | Project 1 - CV - Animal Image Classification/animals//groundhog/groundhog-0053.jpg del-ed | Project 1 - CV - Animal Image Classification/animals//groundhog/groundhog-0055.jpg del-ed | Project 1 - CV - Animal Image Classification/animals//groundhog/groundhog-0059.jpg del-ed | Project 1 - CV - Animal Image Classification/animals//groundhog/groundhog-0108.jpg del-ed | Project 1 - CV - Animal Image Classification/animals//groundhog/groundhog-0118.jpg del-ed | Project 1 - CV - Animal Image Classification/animals//groundhog/groundhog-0121.jpg del-ed | Project 1 - CV - Animal Image Classification/animals//groundhog/groundhog-0128.jpg del-ed | Project 1 - CV - Animal Image Classification/animals//groundhog/groundhog-0147.jpg del-ed | Project 1 - CV - Animal Image Classification/animals//groundhog/groundhog-0152.jpg del-ed | Project 1 - CV - Animal Image Classification/animals//groundhog/groundhog-0174.jpg del-ed | Project 1 - CV - Animal Image Classification/animals//groundhog/groundhog-0186.jpg del-ed | Project 1 - CV - Animal Image Classification/animals//groundhog/groundhog-0212.jpg del-ed | Project 1 - CV - Animal Image Classification/animals//groundhog/groundhog-0218.jpg del-ed | Project 1 - CV - Animal Image Classification/animals//groundhog/groundhog-0221.jpg del-ed | Project 1 - CV - Animal Image Classification/animals//groundhog/groundhog-0225.jpg del-ed | Project 1 - CV - Animal Image Classification/animals//groundhog/groundhog-0234.jpg del-ed | Project 1 - CV - Animal Image Classification/animals//groundhog/groundhog-0238.jpg del-ed | Project 1 - CV - Animal Image Classification/animals//groundhog/groundhog-0250.jpg del-ed | Project 1 - CV - Animal Image Classification/animals//groundhog/groundhog-0290.jpg del-ed | Project 1 - CV - Animal Image Classification/animals//groundhog/groundhog-0295.jpg del-ed | Project 1 - CV - Animal Image Classification/animals//groundhog/groundhog-0309.jpg del-ed | Project 1 - CV - Animal Image Classification/animals//baboon/baboon-0006.jpg del-ed | Project 1 - CV - Animal Image Classification/animals//baboon/baboon-0030.jpg del-ed | Project 1 - CV - Animal Image Classification/animals//baboon/baboon-0032.jpg del-ed | Project 1 - CV - Animal Image Classification/animals//baboon/baboon-0034.jpg del-ed | Project 1 - CV - Animal Image Classification/animals//baboon/baboon-0040.jpg del-ed | Project 1 - CV - Animal Image Classification/animals//baboon/baboon-0067.jpg del-ed | Project 1 - CV - Animal Image Classification/animals//baboon/baboon-0068.jpg del-ed | Project 1 - CV - Animal Image Classification/animals//baboon/baboon-0071.jpg del-ed | Project 1 - CV - Animal Image Classification/animals//baboon/baboon-0073.jpg del-ed | Project 1 - CV - Animal Image Classification/animals//baboon/baboon-0078.jpg del-ed | Project 1 - CV - Animal Image Classification/animals//baboon/baboon-0083.jpg del-ed | Project 1 - CV - Animal Image Classification/animals//baboon/baboon-0085.jpg del-ed | Project 1 - CV - Animal Image Classification/animals//baboon/baboon-0097.jpg del-ed | Project 1 - CV - Animal Image Classification/animals//baboon/baboon-0110.jpg del-ed | Project 1 - CV - Animal Image Classification/animals//baboon/baboon-0111.jpg del-ed | Project 1 - CV - Animal Image Classification/animals//baboon/baboon-0121.jpg del-ed | Project 1 - CV - Animal Image Classification/animals//baboon/baboon-0140.jpg del-ed | Project 1 - CV - Animal Image Classification/animals//baboon/baboon-0142.jpg del-ed | Project 1 - CV - Animal Image Classification/animals//baboon/baboon-0175.jpg del-ed | Project 1 - CV - Animal Image Classification/animals//baboon/baboon-0199.jpg del-ed | Project 1 - CV - Animal Image Classification/animals//baboon/baboon-0209.jpg del-ed | Project 1 - CV - Animal Image Classification/animals//baboon/baboon-0211.jpg del-ed | Project 1 - CV - Animal Image Classification/animals//baboon/baboon-0212.jpg del-ed | Project 1 - CV - Animal Image Classification/animals//baboon/baboon-0214.jpg del-ed | Project 1 - CV - Animal Image Classification/animals//baboon/baboon-0216.jpg del-ed | Project 1 - CV - Animal Image Classification/animals//baboon/baboon-0228.jpg del-ed | Project 1 - CV - Animal Image Classification/animals//baboon/baboon-0240.jpg del-ed | Project 1 - CV - Animal Image Classification/animals//baboon/baboon-0248.jpg del-ed | Project 1 - CV - Animal Image Classification/animals//baboon/baboon-0266.jpg del-ed | Project 1 - CV - Animal Image Classification/animals//baboon/baboon-0281.jpg del-ed | Project 1 - CV - Animal Image Classification/animals//baboon/baboon-0291.jpg del-ed | Project 1 - CV - Animal Image Classification/animals//baboon/baboon-0295.jpg del-ed | Project 1 - CV - Animal Image Classification/animals//baboon/baboon-0297.jpg del-ed | Project 1 - CV - Animal Image Classification/animals//baboon/baboon-0299.jpg del-ed | Project 1 - CV - Animal Image Classification/animals//baboon/baboon-0307.jpg del-ed | Project 1 - CV - Animal Image Classification/animals//baboon/baboon-0312.jpg del-ed | Project 1 - CV - Animal Image Classification/animals//baboon/baboon-0315.jpg del-ed | Project 1 - CV - Animal Image Classification/animals//baboon/baboon-0327.jpg del-ed | Project 1 - CV - Animal Image Classification/animals//baboon/baboon-0328.jpg del-ed | Project 1 - CV - Animal Image Classification/animals//wombat/wombat-0006.jpg del-ed | Project 1 - CV - Animal Image Classification/animals//wombat/wombat-0011.jpg del-ed | Project 1 - CV - Animal Image Classification/animals//wombat/wombat-0024.jpg del-ed | Project 1 - CV - Animal Image Classification/animals//wombat/wombat-0031.jpg del-ed | Project 1 - CV - Animal Image Classification/animals//wombat/wombat-0034.jpg del-ed | Project 1 - CV - Animal Image Classification/animals//wombat/wombat-0040.jpg del-ed | Project 1 - CV - Animal Image Classification/animals//wombat/wombat-0055.jpg del-ed | Project 1 - CV - Animal Image Classification/animals//wombat/wombat-0064.jpg del-ed | Project 1 - CV - Animal Image Classification/animals//wombat/wombat-0066.jpg del-ed | Project 1 - CV - Animal Image Classification/animals//wombat/wombat-0077.jpg del-ed | Project 1 - CV - Animal Image Classification/animals//wombat/wombat-0079.jpg del-ed | Project 1 - CV - Animal Image Classification/animals//wombat/wombat-0085.jpg del-ed | Project 1 - CV - Animal Image Classification/animals//wombat/wombat-0087.jpg del-ed | Project 1 - CV - Animal Image Classification/animals//wombat/wombat-0098.jpg del-ed | Project 1 - CV - Animal Image Classification/animals//wombat/wombat-0111.jpg del-ed | Project 1 - CV - Animal Image Classification/animals//wombat/wombat-0138.jpg del-ed | Project 1 - CV - Animal Image Classification/animals//wombat/wombat-0140.jpg del-ed | Project 1 - CV - Animal Image Classification/animals//wombat/wombat-0169.jpg del-ed | Project 1 - CV - Animal Image Classification/animals//wombat/wombat-0175.jpg del-ed | Project 1 - CV - Animal Image Classification/animals//wombat/wombat-0199.jpg del-ed | Project 1 - CV - Animal Image Classification/animals//wombat/wombat-0205.jpg del-ed | Project 1 - CV - Animal Image Classification/animals//wombat/wombat-0209.jpg del-ed | Project 1 - CV - Animal Image Classification/animals//wombat/wombat-0210.jpg del-ed | Project 1 - CV - Animal Image Classification/animals//wombat/wombat-0211.jpg del-ed | Project 1 - CV - Animal Image Classification/animals//wombat/wombat-0212.jpg del-ed | Project 1 - CV - Animal Image Classification/animals//wombat/wombat-0213.jpg del-ed | Project 1 - CV - Animal Image Classification/animals//wombat/wombat-0216.jpg del-ed | Project 1 - CV - Animal Image Classification/animals//wombat/wombat-0228.jpg del-ed | Project 1 - CV - Animal Image Classification/animals//wombat/wombat-0248.jpg del-ed | Project 1 - CV - Animal Image Classification/animals//wombat/wombat-0255.jpg del-ed | Project 1 - CV - Animal Image Classification/animals//wombat/wombat-0276.jpg del-ed | Project 1 - CV - Animal Image Classification/animals//wombat/wombat-0282.jpg del-ed | Project 1 - CV - Animal Image Classification/animals//wombat/wombat-0287.jpg del-ed | Project 1 - CV - Animal Image Classification/animals//wombat/wombat-0292.jpg del-ed | Project 1 - CV - Animal Image Classification/animals//wombat/wombat-0295.jpg del-ed | Project 1 - CV - Animal Image Classification/animals//wombat/wombat-0297.jpg del-ed | Project 1 - CV - Animal Image Classification/animals//wombat/wombat-0300.jpg del-ed | Project 1 - CV - Animal Image Classification/animals//wombat/wombat-0301.jpg del-ed | Project 1 - CV - Animal Image Classification/animals//yak/yak-0002.jpg del-ed | Project 1 - CV - Animal Image Classification/animals//yak/yak-0012.jpg del-ed | Project 1 - CV - Animal Image Classification/animals//yak/yak-0014.jpg del-ed | Project 1 - CV - Animal Image Classification/animals//yak/yak-0019.jpg del-ed | Project 1 - CV - Animal Image Classification/animals//yak/yak-0020.jpg del-ed | Project 1 - CV - Animal Image Classification/animals//yak/yak-0028.jpg del-ed | Project 1 - CV - Animal Image Classification/animals//yak/yak-0030.jpg del-ed | Project 1 - CV - Animal Image Classification/animals//yak/yak-0036.jpg del-ed | Project 1 - CV - Animal Image Classification/animals//yak/yak-0043.jpg del-ed | Project 1 - CV - Animal Image Classification/animals//yak/yak-0046.jpg del-ed | Project 1 - CV - Animal Image Classification/animals//yak/yak-0047.jpg del-ed | Project 1 - CV - Animal Image Classification/animals//yak/yak-0054.jpg del-ed | Project 1 - CV - Animal Image Classification/animals//yak/yak-0108.jpg del-ed | Project 1 - CV - Animal Image Classification/animals//yak/yak-0125.jpg del-ed | Project 1 - CV - Animal Image Classification/animals//yak/yak-0126.jpg del-ed | Project 1 - CV - Animal Image Classification/animals//yak/yak-0130.jpg del-ed | Project 1 - CV - Animal Image Classification/animals//yak/yak-0150.jpg del-ed | Project 1 - CV - Animal Image Classification/animals//yak/yak-0151.jpg del-ed | Project 1 - CV - Animal Image Classification/animals//yak/yak-0154.jpg del-ed | Project 1 - CV - Animal Image Classification/animals//yak/yak-0163.jpg del-ed | Project 1 - CV - Animal Image Classification/animals//yak/yak-0171.jpg del-ed | Project 1 - CV - Animal Image Classification/animals//yak/yak-0176.jpg del-ed | Project 1 - CV - Animal Image Classification/animals//yak/yak-0180.jpg del-ed | Project 1 - CV - Animal Image Classification/animals//yak/yak-0181.jpg del-ed | Project 1 - CV - Animal Image Classification/animals//yak/yak-0183.jpg del-ed | Project 1 - CV - Animal Image Classification/animals//yak/yak-0186.jpg del-ed | Project 1 - CV - Animal Image Classification/animals//yak/yak-0205.jpg del-ed | Project 1 - CV - Animal Image Classification/animals//yak/yak-0220.jpg del-ed | Project 1 - CV - Animal Image Classification/animals//yak/yak-0222.jpg del-ed | Project 1 - CV - Animal Image Classification/animals//yak/yak-0223.jpg del-ed | Project 1 - CV - Animal Image Classification/animals//yak/yak-0227.jpg del-ed | Project 1 - CV - Animal Image Classification/animals//yak/yak-0244.jpg del-ed | Project 1 - CV - Animal Image Classification/animals//yak/yak-0245.jpg del-ed | Project 1 - CV - Animal Image Classification/animals//african_elephant/african_elephant-0011.jpg del-ed | Project 1 - CV - Animal Image Classification/animals//african_elephant/african_elephant-0026.jpg del-ed | Project 1 - CV - Animal Image Classification/animals//african_elephant/african_elephant-0031.jpg del-ed | Project 1 - CV - Animal Image Classification/animals//african_elephant/african_elephant-0032.jpg del-ed | Project 1 - CV - Animal Image Classification/animals//african_elephant/african_elephant-0045.jpg del-ed | Project 1 - CV - Animal Image Classification/animals//african_elephant/african_elephant-0056.jpg del-ed | Project 1 - CV - Animal Image Classification/animals//african_elephant/african_elephant-0061.jpg del-ed | Project 1 - CV - Animal Image Classification/animals//african_elephant/african_elephant-0089.jpg del-ed | Project 1 - CV - Animal Image Classification/animals//african_elephant/african_elephant-0101.jpg del-ed | Project 1 - CV - Animal Image Classification/animals//african_elephant/african_elephant-0102.jpg del-ed | Project 1 - CV - Animal Image Classification/animals//african_elephant/african_elephant-0110.jpg del-ed | Project 1 - CV - Animal Image Classification/animals//african_elephant/african_elephant-0111.jpg del-ed | Project 1 - CV - Animal Image Classification/animals//african_elephant/african_elephant-0121.jpg del-ed | Project 1 - CV - Animal Image Classification/animals//african_elephant/african_elephant-0137.jpg del-ed | Project 1 - CV - Animal Image Classification/animals//african_elephant/african_elephant-0159.jpg del-ed | Project 1 - CV - Animal Image Classification/animals//african_elephant/african_elephant-0175.jpg del-ed | Project 1 - CV - Animal Image Classification/animals//african_elephant/african_elephant-0209.jpg del-ed | Project 1 - CV - Animal Image Classification/animals//african_elephant/african_elephant-0210.jpg del-ed | Project 1 - CV - Animal Image Classification/animals//african_elephant/african_elephant-0211.jpg del-ed | Project 1 - CV - Animal Image Classification/animals//african_elephant/african_elephant-0232.jpg del-ed | Project 1 - CV - Animal Image Classification/animals//african_elephant/african_elephant-0255.jpg del-ed | Project 1 - CV - Animal Image Classification/animals//african_elephant/african_elephant-0261.jpg del-ed | Project 1 - CV - Animal Image Classification/animals//african_elephant/african_elephant-0276.jpg del-ed | Project 1 - CV - Animal Image Classification/animals//african_elephant/african_elephant-0278.jpg del-ed | Project 1 - CV - Animal Image Classification/animals//african_elephant/african_elephant-0281.jpg del-ed | Project 1 - CV - Animal Image Classification/animals//african_elephant/african_elephant-0290.jpg del-ed | Project 1 - CV - Animal Image Classification/animals//african_elephant/african_elephant-0295.jpg del-ed | Project 1 - CV - Animal Image Classification/animals//african_elephant/african_elephant-0300.jpg del-ed | Project 1 - CV - Animal Image Classification/animals//african_elephant/african_elephant-0306.jpg del-ed | Project 1 - CV - Animal Image Classification/animals//african_elephant/african_elephant-0310.jpg del-ed | Project 1 - CV - Animal Image Classification/animals//african_elephant/african_elephant-0313.jpg del-ed | Project 1 - CV - Animal Image Classification/animals//african_elephant/african_elephant-0320.jpg del-ed | Project 1 - CV - Animal Image Classification/animals//african_elephant/african_elephant-0324.jpg del-ed | Project 1 - CV - Animal Image Classification/animals//african_elephant/african_elephant-0328.jpg del-ed | Project 1 - CV - Animal Image Classification/animals//african_elephant/african_elephant-0329.jpg del-ed | Project 1 - CV - Animal Image Classification/animals//african_elephant/african_elephant-0330.jpg del-ed | Project 1 - CV - Animal Image Classification/animals//african_elephant/african_elephant-0333.jpg del-ed | Project 1 - CV - Animal Image Classification/animals//african_elephant/african_elephant-0334.jpg del-ed | Project 1 - CV - Animal Image Classification/animals//snow_leopard/snow_leopard-0031.jpg del-ed | Project 1 - CV - Animal Image Classification/animals//snow_leopard/snow_leopard-0033.jpg del-ed | Project 1 - CV - Animal Image Classification/animals//snow_leopard/snow_leopard-0045.jpg del-ed | Project 1 - CV - Animal Image Classification/animals//snow_leopard/snow_leopard-0073.jpg del-ed | Project 1 - CV - Animal Image Classification/animals//snow_leopard/snow_leopard-0088.jpg del-ed | Project 1 - CV - Animal Image Classification/animals//snow_leopard/snow_leopard-0091.jpg del-ed | Project 1 - CV - Animal Image Classification/animals//snow_leopard/snow_leopard-0097.jpg del-ed | Project 1 - CV - Animal Image Classification/animals//snow_leopard/snow_leopard-0100.jpg del-ed | Project 1 - CV - Animal Image Classification/animals//snow_leopard/snow_leopard-0108.jpg del-ed | Project 1 - CV - Animal Image Classification/animals//snow_leopard/snow_leopard-0149.jpg del-ed | Project 1 - CV - Animal Image Classification/animals//snow_leopard/snow_leopard-0161.jpg del-ed | Project 1 - CV - Animal Image Classification/animals//snow_leopard/snow_leopard-0163.jpg del-ed | Project 1 - CV - Animal Image Classification/animals//snow_leopard/snow_leopard-0168.jpg del-ed | Project 1 - CV - Animal Image Classification/animals//snow_leopard/snow_leopard-0169.jpg del-ed | Project 1 - CV - Animal Image Classification/animals//snow_leopard/snow_leopard-0187.jpg del-ed | Project 1 - CV - Animal Image Classification/animals//snow_leopard/snow_leopard-0191.jpg del-ed | Project 1 - CV - Animal Image Classification/animals//snow_leopard/snow_leopard-0193.jpg del-ed | Project 1 - CV - Animal Image Classification/animals//snow_leopard/snow_leopard-0199.jpg del-ed | Project 1 - CV - Animal Image Classification/animals//snow_leopard/snow_leopard-0209.jpg del-ed | Project 1 - CV - Animal Image Classification/animals//snow_leopard/snow_leopard-0210.jpg del-ed | Project 1 - CV - Animal Image Classification/animals//snow_leopard/snow_leopard-0212.jpg del-ed | Project 1 - CV - Animal Image Classification/animals//snow_leopard/snow_leopard-0216.jpg del-ed | Project 1 - CV - Animal Image Classification/animals//snow_leopard/snow_leopard-0219.jpg del-ed | Project 1 - CV - Animal Image Classification/animals//snow_leopard/snow_leopard-0225.jpg del-ed | Project 1 - CV - Animal Image Classification/animals//snow_leopard/snow_leopard-0244.jpg del-ed | Project 1 - CV - Animal Image Classification/animals//snow_leopard/snow_leopard-0267.jpg del-ed | Project 1 - CV - Animal Image Classification/animals//snow_leopard/snow_leopard-0273.jpg del-ed | Project 1 - CV - Animal Image Classification/animals//snow_leopard/snow_leopard-0279.jpg del-ed | Project 1 - CV - Animal Image Classification/animals//snow_leopard/snow_leopard-0286.jpg del-ed | Project 1 - CV - Animal Image Classification/animals//snow_leopard/snow_leopard-0289.jpg del-ed | Project 1 - CV - Animal Image Classification/animals//snow_leopard/snow_leopard-0296.jpg del-ed | Project 1 - CV - Animal Image Classification/animals//snow_leopard/snow_leopard-0323.jpg del-ed | Project 1 - CV - Animal Image Classification/animals//snow_leopard/snow_leopard-0324.jpg del-ed | Project 1 - CV - Animal Image Classification/animals//snow_leopard/snow_leopard-0332.jpg del-ed | Project 1 - CV - Animal Image Classification/animals//snow_leopard/snow_leopard-0350.jpg del-ed | Project 1 - CV - Animal Image Classification/animals//horse/horse-0006.jpg del-ed | Project 1 - CV - Animal Image Classification/animals//horse/horse-0011.jpg del-ed | Project 1 - CV - Animal Image Classification/animals//horse/horse-0024.jpg del-ed | Project 1 - CV - Animal Image Classification/animals//horse/horse-0026.jpg del-ed | Project 1 - CV - Animal Image Classification/animals//horse/horse-0031.jpg del-ed | Project 1 - CV - Animal Image Classification/animals//horse/horse-0032.jpg del-ed | Project 1 - CV - Animal Image Classification/animals//horse/horse-0034.jpg del-ed | Project 1 - CV - Animal Image Classification/animals//horse/horse-0045.jpg del-ed | Project 1 - CV - Animal Image Classification/animals//horse/horse-0050.jpg del-ed | Project 1 - CV - Animal Image Classification/animals//horse/horse-0055.jpg del-ed | Project 1 - CV - Animal Image Classification/animals//horse/horse-0064.jpg del-ed | Project 1 - CV - Animal Image Classification/animals//horse/horse-0066.jpg del-ed | Project 1 - CV - Animal Image Classification/animals//horse/horse-0067.jpg del-ed | Project 1 - CV - Animal Image Classification/animals//horse/horse-0071.jpg del-ed | Project 1 - CV - Animal Image Classification/animals//horse/horse-0073.jpg del-ed | Project 1 - CV - Animal Image Classification/animals//horse/horse-0078.jpg del-ed | Project 1 - CV - Animal Image Classification/animals//horse/horse-0085.jpg del-ed | Project 1 - CV - Animal Image Classification/animals//horse/horse-0097.jpg del-ed | Project 1 - CV - Animal Image Classification/animals//horse/horse-0098.jpg del-ed | Project 1 - CV - Animal Image Classification/animals//horse/horse-0110.jpg del-ed | Project 1 - CV - Animal Image Classification/animals//horse/horse-0111.jpg del-ed | Project 1 - CV - Animal Image Classification/animals//horse/horse-0121.jpg del-ed | Project 1 - CV - Animal Image Classification/animals//horse/horse-0137.jpg del-ed | Project 1 - CV - Animal Image Classification/animals//horse/horse-0138.jpg del-ed | Project 1 - CV - Animal Image Classification/animals//horse/horse-0140.jpg del-ed | Project 1 - CV - Animal Image Classification/animals//horse/horse-0142.jpg del-ed | Project 1 - CV - Animal Image Classification/animals//horse/horse-0169.jpg del-ed | Project 1 - CV - Animal Image Classification/animals//horse/horse-0193.jpg del-ed | Project 1 - CV - Animal Image Classification/animals//horse/horse-0199.jpg del-ed | Project 1 - CV - Animal Image Classification/animals//horse/horse-0209.jpg del-ed | Project 1 - CV - Animal Image Classification/animals//horse/horse-0212.jpg del-ed | Project 1 - CV - Animal Image Classification/animals//horse/horse-0214.jpg del-ed | Project 1 - CV - Animal Image Classification/animals//horse/horse-0216.jpg del-ed | Project 1 - CV - Animal Image Classification/animals//horse/horse-0219.jpg del-ed | Project 1 - CV - Animal Image Classification/animals//horse/horse-0228.jpg del-ed | Project 1 - CV - Animal Image Classification/animals//horse/horse-0236.jpg del-ed | Project 1 - CV - Animal Image Classification/animals//horse/horse-0240.jpg del-ed | Project 1 - CV - Animal Image Classification/animals//horse/horse-0245.jpg del-ed | Project 1 - CV - Animal Image Classification/animals//horse/horse-0248.jpg del-ed | Project 1 - CV - Animal Image Classification/animals//horse/horse-0260.jpg del-ed | Project 1 - CV - Animal Image Classification/animals//horse/horse-0266.jpg del-ed | Project 1 - CV - Animal Image Classification/animals//horse/horse-0276.jpg del-ed | Project 1 - CV - Animal Image Classification/animals//horse/horse-0282.jpg del-ed | Project 1 - CV - Animal Image Classification/animals//horse/horse-0287.jpg del-ed | Project 1 - CV - Animal Image Classification/animals//horse/horse-0292.jpg del-ed | Project 1 - CV - Animal Image Classification/animals//horse/horse-0293.jpg del-ed | Project 1 - CV - Animal Image Classification/animals//horse/horse-0299.jpg del-ed | Project 1 - CV - Animal Image Classification/animals//horse/horse-0301.jpg del-ed | Project 1 - CV - Animal Image Classification/animals//horse/horse-0303.jpg del-ed | Project 1 - CV - Animal Image Classification/animals//kangaroo/kangaroo-0001.jpg del-ed | Project 1 - CV - Animal Image Classification/animals//kangaroo/kangaroo-0004.jpg del-ed | Project 1 - CV - Animal Image Classification/animals//kangaroo/kangaroo-0007.jpg del-ed | Project 1 - CV - Animal Image Classification/animals//kangaroo/kangaroo-0008.jpg del-ed | Project 1 - CV - Animal Image Classification/animals//kangaroo/kangaroo-0010.jpg del-ed | Project 1 - CV - Animal Image Classification/animals//kangaroo/kangaroo-0016.jpg del-ed | Project 1 - CV - Animal Image Classification/animals//kangaroo/kangaroo-0019.jpg del-ed | Project 1 - CV - Animal Image Classification/animals//kangaroo/kangaroo-0021.jpg del-ed | Project 1 - CV - Animal Image Classification/animals//kangaroo/kangaroo-0031.jpg del-ed | Project 1 - CV - Animal Image Classification/animals//kangaroo/kangaroo-0033.jpg del-ed | Project 1 - CV - Animal Image Classification/animals//kangaroo/kangaroo-0049.jpg del-ed | Project 1 - CV - Animal Image Classification/animals//kangaroo/kangaroo-0058.jpg del-ed | Project 1 - CV - Animal Image Classification/animals//kangaroo/kangaroo-0060.jpg del-ed | Project 1 - CV - Animal Image Classification/animals//kangaroo/kangaroo-0070.jpg del-ed | Project 1 - CV - Animal Image Classification/animals//kangaroo/kangaroo-0073.jpg del-ed | Project 1 - CV - Animal Image Classification/animals//kangaroo/kangaroo-0076.jpg del-ed | Project 1 - CV - Animal Image Classification/animals//kangaroo/kangaroo-0082.jpg del-ed | Project 1 - CV - Animal Image Classification/animals//kangaroo/kangaroo-0086.jpg del-ed | Project 1 - CV - Animal Image Classification/animals//kangaroo/kangaroo-0092.jpg del-ed | Project 1 - CV - Animal Image Classification/animals//kangaroo/kangaroo-0100.jpg del-ed | Project 1 - CV - Animal Image Classification/animals//kangaroo/kangaroo-0107.jpg del-ed | Project 1 - CV - Animal Image Classification/animals//kangaroo/kangaroo-0127.jpg del-ed | Project 1 - CV - Animal Image Classification/animals//kangaroo/kangaroo-0138.jpg del-ed | Project 1 - CV - Animal Image Classification/animals//kangaroo/kangaroo-0141.jpg del-ed | Project 1 - CV - Animal Image Classification/animals//kangaroo/kangaroo-0148.jpg del-ed | Project 1 - CV - Animal Image Classification/animals//kangaroo/kangaroo-0152.jpg del-ed | Project 1 - CV - Animal Image Classification/animals//kangaroo/kangaroo-0154.jpg del-ed | Project 1 - CV - Animal Image Classification/animals//kangaroo/kangaroo-0162.jpg del-ed | Project 1 - CV - Animal Image Classification/animals//kangaroo/kangaroo-0163.jpg del-ed | Project 1 - CV - Animal Image Classification/animals//kangaroo/kangaroo-0172.jpg del-ed | Project 1 - CV - Animal Image Classification/animals//kangaroo/kangaroo-0192.jpg del-ed | Project 1 - CV - Animal Image Classification/animals//kangaroo/kangaroo-0197.jpg del-ed | Project 1 - CV - Animal Image Classification/animals//kangaroo/kangaroo-0201.jpg del-ed | Project 1 - CV - Animal Image Classification/animals//kangaroo/kangaroo-0217.jpg del-ed | Project 1 - CV - Animal Image Classification/animals//kangaroo/kangaroo-0218.jpg del-ed | Project 1 - CV - Animal Image Classification/animals//kangaroo/kangaroo-0227.jpg del-ed | Project 1 - CV - Animal Image Classification/animals//kangaroo/kangaroo-0230.jpg del-ed | Project 1 - CV - Animal Image Classification/animals//kangaroo/kangaroo-0233.jpg del-ed | Project 1 - CV - Animal Image Classification/animals//kangaroo/kangaroo-0245.jpg del-ed | Project 1 - CV - Animal Image Classification/animals//kangaroo/kangaroo-0252.jpg del-ed | Project 1 - CV - Animal Image Classification/animals//kangaroo/kangaroo-0258.jpg del-ed | Project 1 - CV - Animal Image Classification/animals//kangaroo/kangaroo-0262.jpg del-ed | Project 1 - CV - Animal Image Classification/animals//kangaroo/kangaroo-0263.jpg del-ed | Project 1 - CV - Animal Image Classification/animals//kangaroo/kangaroo-0268.jpg del-ed | Project 1 - CV - Animal Image Classification/animals//kangaroo/kangaroo-0274.jpg del-ed | Project 1 - CV - Animal Image Classification/animals//kangaroo/kangaroo-0278.jpg del-ed | Project 1 - CV - Animal Image Classification/animals//kangaroo/kangaroo-0292.jpg del-ed | Project 1 - CV - Animal Image Classification/animals//kangaroo/kangaroo-0296.jpg del-ed | Project 1 - CV - Animal Image Classification/animals//kangaroo/kangaroo-0303.jpg del-ed | Project 1 - CV - Animal Image Classification/animals//kangaroo/kangaroo-0312.jpg del-ed | Project 1 - CV - Animal Image Classification/animals//kangaroo/kangaroo-0313.jpg del-ed | Project 1 - CV - Animal Image Classification/animals//kangaroo/kangaroo-0316.jpg del-ed | Project 1 - CV - Animal Image Classification/animals//squirrel/squirrel-0023.jpg del-ed | Project 1 - CV - Animal Image Classification/animals//squirrel/squirrel-0036.jpg del-ed | Project 1 - CV - Animal Image Classification/animals//squirrel/squirrel-0052.jpg del-ed | Project 1 - CV - Animal Image Classification/animals//squirrel/squirrel-0054.jpg del-ed | Project 1 - CV - Animal Image Classification/animals//squirrel/squirrel-0055.jpg del-ed | Project 1 - CV - Animal Image Classification/animals//squirrel/squirrel-0061.jpg del-ed | Project 1 - CV - Animal Image Classification/animals//squirrel/squirrel-0092.jpg del-ed | Project 1 - CV - Animal Image Classification/animals//squirrel/squirrel-0106.jpg del-ed | Project 1 - CV - Animal Image Classification/animals//squirrel/squirrel-0110.jpg del-ed | Project 1 - CV - Animal Image Classification/animals//squirrel/squirrel-0124.jpg del-ed | Project 1 - CV - Animal Image Classification/animals//squirrel/squirrel-0129.jpg del-ed | Project 1 - CV - Animal Image Classification/animals//squirrel/squirrel-0148.jpg del-ed | Project 1 - CV - Animal Image Classification/animals//squirrel/squirrel-0159.jpg del-ed | Project 1 - CV - Animal Image Classification/animals//squirrel/squirrel-0160.jpg del-ed | Project 1 - CV - Animal Image Classification/animals//squirrel/squirrel-0173.jpg del-ed | Project 1 - CV - Animal Image Classification/animals//squirrel/squirrel-0175.jpg del-ed | Project 1 - CV - Animal Image Classification/animals//squirrel/squirrel-0194.jpg del-ed | Project 1 - CV - Animal Image Classification/animals//squirrel/squirrel-0195.jpg del-ed | Project 1 - CV - Animal Image Classification/animals//squirrel/squirrel-0207.jpg del-ed | Project 1 - CV - Animal Image Classification/animals//squirrel/squirrel-0212.jpg del-ed | Project 1 - CV - Animal Image Classification/animals//squirrel/squirrel-0217.jpg del-ed | Project 1 - CV - Animal Image Classification/animals//squirrel/squirrel-0218.jpg del-ed | Project 1 - CV - Animal Image Classification/animals//squirrel/squirrel-0220.jpg del-ed | Project 1 - CV - Animal Image Classification/animals//squirrel/squirrel-0223.jpg del-ed | Project 1 - CV - Animal Image Classification/animals//squirrel/squirrel-0226.jpg del-ed | Project 1 - CV - Animal Image Classification/animals//squirrel/squirrel-0235.jpg del-ed | Project 1 - CV - Animal Image Classification/animals//squirrel/squirrel-0248.jpg del-ed | Project 1 - CV - Animal Image Classification/animals//squirrel/squirrel-0256.jpg del-ed | Project 1 - CV - Animal Image Classification/animals//squirrel/squirrel-0262.jpg del-ed | Project 1 - CV - Animal Image Classification/animals//squirrel/squirrel-0265.jpg del-ed | Project 1 - CV - Animal Image Classification/animals//squirrel/squirrel-0267.jpg del-ed | Project 1 - CV - Animal Image Classification/animals//squirrel/squirrel-0272.jpg del-ed | Project 1 - CV - Animal Image Classification/animals//squirrel/squirrel-0280.jpg del-ed | Project 1 - CV - Animal Image Classification/animals//squirrel/squirrel-0285.jpg del-ed | Project 1 - CV - Animal Image Classification/animals//squirrel/squirrel-0299.jpg del-ed | Project 1 - CV - Animal Image Classification/animals//squirrel/squirrel-0300.jpg del-ed | Project 1 - CV - Animal Image Classification/animals//squirrel/squirrel-0311.jpg del-ed | Project 1 - CV - Animal Image Classification/animals//polar_bear/polar_bear-0002.jpg del-ed | Project 1 - CV - Animal Image Classification/animals//polar_bear/polar_bear-0050.jpg del-ed | Project 1 - CV - Animal Image Classification/animals//polar_bear/polar_bear-0057.jpg del-ed | Project 1 - CV - Animal Image Classification/animals//polar_bear/polar_bear-0061.jpg del-ed | Project 1 - CV - Animal Image Classification/animals//polar_bear/polar_bear-0084.jpg del-ed | Project 1 - CV - Animal Image Classification/animals//polar_bear/polar_bear-0158.jpg del-ed | Project 1 - CV - Animal Image Classification/animals//polar_bear/polar_bear-0159.jpg del-ed | Project 1 - CV - Animal Image Classification/animals//polar_bear/polar_bear-0177.jpg del-ed | Project 1 - CV - Animal Image Classification/animals//polar_bear/polar_bear-0187.jpg del-ed | Project 1 - CV - Animal Image Classification/animals//polar_bear/polar_bear-0191.jpg del-ed | Project 1 - CV - Animal Image Classification/animals//polar_bear/polar_bear-0201.jpg del-ed | Project 1 - CV - Animal Image Classification/animals//polar_bear/polar_bear-0228.jpg del-ed | Project 1 - CV - Animal Image Classification/animals//polar_bear/polar_bear-0233.jpg del-ed | Project 1 - CV - Animal Image Classification/animals//polar_bear/polar_bear-0263.jpg del-ed | Project 1 - CV - Animal Image Classification/animals//polar_bear/polar_bear-0269.jpg del-ed | Project 1 - CV - Animal Image Classification/animals//polar_bear/polar_bear-0278.jpg del-ed | Project 1 - CV - Animal Image Classification/animals//polar_bear/polar_bear-0290.jpg del-ed | Project 1 - CV - Animal Image Classification/animals//polar_bear/polar_bear-0308.jpg del-ed | Project 1 - CV - Animal Image Classification/animals//polar_bear/polar_bear-0321.jpg del-ed | Project 1 - CV - Animal Image Classification/animals//polar_bear/polar_bear-0327.jpg del-ed | Project 1 - CV - Animal Image Classification/animals//polar_bear/polar_bear-0348.jpg del-ed | Project 1 - CV - Animal Image Classification/animals//highland_cattle/highland_cattle-0005.jpg del-ed | Project 1 - CV - Animal Image Classification/animals//highland_cattle/highland_cattle-0007.jpg del-ed | Project 1 - CV - Animal Image Classification/animals//highland_cattle/highland_cattle-0022.jpg del-ed | Project 1 - CV - Animal Image Classification/animals//highland_cattle/highland_cattle-0030.jpg del-ed | Project 1 - CV - Animal Image Classification/animals//highland_cattle/highland_cattle-0040.jpg del-ed | Project 1 - CV - Animal Image Classification/animals//highland_cattle/highland_cattle-0045.jpg del-ed | Project 1 - CV - Animal Image Classification/animals//highland_cattle/highland_cattle-0069.jpg del-ed | Project 1 - CV - Animal Image Classification/animals//highland_cattle/highland_cattle-0074.jpg del-ed | Project 1 - CV - Animal Image Classification/animals//highland_cattle/highland_cattle-0117.jpg del-ed | Project 1 - CV - Animal Image Classification/animals//highland_cattle/highland_cattle-0148.jpg del-ed | Project 1 - CV - Animal Image Classification/animals//highland_cattle/highland_cattle-0187.jpg del-ed | Project 1 - CV - Animal Image Classification/animals//highland_cattle/highland_cattle-0200.jpg del-ed | Project 1 - CV - Animal Image Classification/animals//highland_cattle/highland_cattle-0215.jpg del-ed | Project 1 - CV - Animal Image Classification/animals//highland_cattle/highland_cattle-0217.jpg del-ed | Project 1 - CV - Animal Image Classification/animals//highland_cattle/highland_cattle-0219.jpg del-ed | Project 1 - CV - Animal Image Classification/animals//highland_cattle/highland_cattle-0238.jpg del-ed | Project 1 - CV - Animal Image Classification/animals//highland_cattle/highland_cattle-0248.jpg del-ed | Project 1 - CV - Animal Image Classification/animals//highland_cattle/highland_cattle-0254.jpg del-ed | Project 1 - CV - Animal Image Classification/animals//highland_cattle/highland_cattle-0255.jpg del-ed | Project 1 - CV - Animal Image Classification/animals//highland_cattle/highland_cattle-0259.jpg del-ed | Project 1 - CV - Animal Image Classification/animals//highland_cattle/highland_cattle-0261.jpg del-ed | Project 1 - CV - Animal Image Classification/animals//highland_cattle/highland_cattle-0269.jpg del-ed | Project 1 - CV - Animal Image Classification/animals//highland_cattle/highland_cattle-0285.jpg del-ed | Project 1 - CV - Animal Image Classification/animals//highland_cattle/highland_cattle-0297.jpg del-ed | Project 1 - CV - Animal Image Classification/animals//highland_cattle/highland_cattle-0303.jpg del-ed | Project 1 - CV - Animal Image Classification/animals//highland_cattle/highland_cattle-0306.jpg del-ed | Project 1 - CV - Animal Image Classification/animals//camel/camel-0010.jpg del-ed | Project 1 - CV - Animal Image Classification/animals//camel/camel-0032.jpg del-ed | Project 1 - CV - Animal Image Classification/animals//camel/camel-0052.jpg del-ed | Project 1 - CV - Animal Image Classification/animals//camel/camel-0060.jpg del-ed | Project 1 - CV - Animal Image Classification/animals//camel/camel-0064.jpg del-ed | Project 1 - CV - Animal Image Classification/animals//camel/camel-0082.jpg del-ed | Project 1 - CV - Animal Image Classification/animals//camel/camel-0083.jpg del-ed | Project 1 - CV - Animal Image Classification/animals//camel/camel-0113.jpg del-ed | Project 1 - CV - Animal Image Classification/animals//camel/camel-0127.jpg del-ed | Project 1 - CV - Animal Image Classification/animals//camel/camel-0133.jpg del-ed | Project 1 - CV - Animal Image Classification/animals//camel/camel-0151.jpg del-ed | Project 1 - CV - Animal Image Classification/animals//camel/camel-0191.jpg del-ed | Project 1 - CV - Animal Image Classification/animals//camel/camel-0217.jpg del-ed | Project 1 - CV - Animal Image Classification/animals//camel/camel-0223.jpg del-ed | Project 1 - CV - Animal Image Classification/animals//camel/camel-0245.jpg del-ed | Project 1 - CV - Animal Image Classification/animals//camel/camel-0246.jpg del-ed | Project 1 - CV - Animal Image Classification/animals//anteater/anteater-0032.jpg del-ed | Project 1 - CV - Animal Image Classification/animals//anteater/anteater-0034.jpg del-ed | Project 1 - CV - Animal Image Classification/animals//anteater/anteater-0040.jpg del-ed | Project 1 - CV - Animal Image Classification/animals//anteater/anteater-0050.jpg del-ed | Project 1 - CV - Animal Image Classification/animals//anteater/anteater-0061.jpg del-ed | Project 1 - CV - Animal Image Classification/animals//anteater/anteater-0064.jpg del-ed | Project 1 - CV - Animal Image Classification/animals//anteater/anteater-0068.jpg del-ed | Project 1 - CV - Animal Image Classification/animals//anteater/anteater-0073.jpg del-ed | Project 1 - CV - Animal Image Classification/animals//anteater/anteater-0078.jpg del-ed | Project 1 - CV - Animal Image Classification/animals//anteater/anteater-0087.jpg del-ed | Project 1 - CV - Animal Image Classification/animals//anteater/anteater-0111.jpg del-ed | Project 1 - CV - Animal Image Classification/animals//anteater/anteater-0137.jpg del-ed | Project 1 - CV - Animal Image Classification/animals//anteater/anteater-0140.jpg del-ed | Project 1 - CV - Animal Image Classification/animals//anteater/anteater-0142.jpg del-ed | Project 1 - CV - Animal Image Classification/animals//anteater/anteater-0175.jpg del-ed | Project 1 - CV - Animal Image Classification/animals//anteater/anteater-0199.jpg del-ed | Project 1 - CV - Animal Image Classification/animals//anteater/anteater-0200.jpg del-ed | Project 1 - CV - Animal Image Classification/animals//anteater/anteater-0214.jpg del-ed | Project 1 - CV - Animal Image Classification/animals//anteater/anteater-0216.jpg del-ed | Project 1 - CV - Animal Image Classification/animals//anteater/anteater-0236.jpg del-ed | Project 1 - CV - Animal Image Classification/animals//anteater/anteater-0251.jpg del-ed | Project 1 - CV - Animal Image Classification/animals//anteater/anteater-0260.jpg del-ed | Project 1 - CV - Animal Image Classification/animals//anteater/anteater-0261.jpg del-ed | Project 1 - CV - Animal Image Classification/animals//anteater/anteater-0262.jpg del-ed | Project 1 - CV - Animal Image Classification/animals//anteater/anteater-0282.jpg del-ed | Project 1 - CV - Animal Image Classification/animals//anteater/anteater-0293.jpg del-ed | Project 1 - CV - Animal Image Classification/animals//anteater/anteater-0295.jpg del-ed | Project 1 - CV - Animal Image Classification/animals//anteater/anteater-0297.jpg del-ed | Project 1 - CV - Animal Image Classification/animals//anteater/anteater-0299.jpg del-ed | Project 1 - CV - Animal Image Classification/animals//american_bison/american_bison-0001.jpg del-ed | Project 1 - CV - Animal Image Classification/animals//american_bison/american_bison-0008.jpg del-ed | Project 1 - CV - Animal Image Classification/animals//american_bison/american_bison-0035.jpg del-ed | Project 1 - CV - Animal Image Classification/animals//american_bison/american_bison-0055.jpg del-ed | Project 1 - CV - Animal Image Classification/animals//american_bison/american_bison-0060.jpg del-ed | Project 1 - CV - Animal Image Classification/animals//american_bison/american_bison-0076.jpg del-ed | Project 1 - CV - Animal Image Classification/animals//american_bison/american_bison-0080.jpg del-ed | Project 1 - CV - Animal Image Classification/animals//american_bison/american_bison-0086.jpg del-ed | Project 1 - CV - Animal Image Classification/animals//american_bison/american_bison-0102.jpg del-ed | Project 1 - CV - Animal Image Classification/animals//american_bison/american_bison-0105.jpg del-ed | Project 1 - CV - Animal Image Classification/animals//american_bison/american_bison-0110.jpg del-ed | Project 1 - CV - Animal Image Classification/animals//american_bison/american_bison-0140.jpg del-ed | Project 1 - CV - Animal Image Classification/animals//american_bison/american_bison-0202.jpg del-ed | Project 1 - CV - Animal Image Classification/animals//american_bison/american_bison-0205.jpg del-ed | Project 1 - CV - Animal Image Classification/animals//american_bison/american_bison-0233.jpg del-ed | Project 1 - CV - Animal Image Classification/animals//american_bison/american_bison-0239.jpg del-ed | Project 1 - CV - Animal Image Classification/animals//american_bison/american_bison-0242.jpg del-ed | Project 1 - CV - Animal Image Classification/animals//american_bison/american_bison-0250.jpg del-ed | Project 1 - CV - Animal Image Classification/animals//american_bison/american_bison-0251.jpg del-ed | Project 1 - CV - Animal Image Classification/animals//american_bison/american_bison-0263.jpg del-ed | Project 1 - CV - Animal Image Classification/animals//american_bison/american_bison-0317.jpg del-ed | Project 1 - CV - Animal Image Classification/animals//american_bison/american_bison-0329.jpg del-ed | Project 1 - CV - Animal Image Classification/animals//american_bison/american_bison-0339.jpg del-ed | Project 1 - CV - Animal Image Classification/animals//rhinoceros/rhinoceros-0014.jpg del-ed | Project 1 - CV - Animal Image Classification/animals//rhinoceros/rhinoceros-0016.jpg del-ed | Project 1 - CV - Animal Image Classification/animals//rhinoceros/rhinoceros-0024.jpg del-ed | Project 1 - CV - Animal Image Classification/animals//rhinoceros/rhinoceros-0027.jpg del-ed | Project 1 - CV - Animal Image Classification/animals//rhinoceros/rhinoceros-0033.jpg del-ed | Project 1 - CV - Animal Image Classification/animals//rhinoceros/rhinoceros-0039.jpg del-ed | Project 1 - CV - Animal Image Classification/animals//rhinoceros/rhinoceros-0060.jpg del-ed | Project 1 - CV - Animal Image Classification/animals//rhinoceros/rhinoceros-0097.jpg del-ed | Project 1 - CV - Animal Image Classification/animals//rhinoceros/rhinoceros-0100.jpg del-ed | Project 1 - CV - Animal Image Classification/animals//rhinoceros/rhinoceros-0101.jpg del-ed | Project 1 - CV - Animal Image Classification/animals//rhinoceros/rhinoceros-0105.jpg del-ed | Project 1 - CV - Animal Image Classification/animals//rhinoceros/rhinoceros-0129.jpg del-ed | Project 1 - CV - Animal Image Classification/animals//rhinoceros/rhinoceros-0134.jpg del-ed | Project 1 - CV - Animal Image Classification/animals//rhinoceros/rhinoceros-0139.jpg del-ed | Project 1 - CV - Animal Image Classification/animals//rhinoceros/rhinoceros-0150.jpg del-ed | Project 1 - CV - Animal Image Classification/animals//rhinoceros/rhinoceros-0154.jpg del-ed | Project 1 - CV - Animal Image Classification/animals//rhinoceros/rhinoceros-0158.jpg del-ed | Project 1 - CV - Animal Image Classification/animals//rhinoceros/rhinoceros-0169.jpg del-ed | Project 1 - CV - Animal Image Classification/animals//rhinoceros/rhinoceros-0172.jpg del-ed | Project 1 - CV - Animal Image Classification/animals//rhinoceros/rhinoceros-0179.jpg del-ed | Project 1 - CV - Animal Image Classification/animals//rhinoceros/rhinoceros-0184.jpg del-ed | Project 1 - CV - Animal Image Classification/animals//rhinoceros/rhinoceros-0185.jpg del-ed | Project 1 - CV - Animal Image Classification/animals//rhinoceros/rhinoceros-0186.jpg del-ed | Project 1 - CV - Animal Image Classification/animals//rhinoceros/rhinoceros-0200.jpg del-ed | Project 1 - CV - Animal Image Classification/animals//rhinoceros/rhinoceros-0210.jpg del-ed | Project 1 - CV - Animal Image Classification/animals//rhinoceros/rhinoceros-0216.jpg del-ed | Project 1 - CV - Animal Image Classification/animals//rhinoceros/rhinoceros-0226.jpg del-ed | Project 1 - CV - Animal Image Classification/animals//rhinoceros/rhinoceros-0229.jpg del-ed | Project 1 - CV - Animal Image Classification/animals//rhinoceros/rhinoceros-0231.jpg del-ed | Project 1 - CV - Animal Image Classification/animals//rhinoceros/rhinoceros-0244.jpg del-ed | Project 1 - CV - Animal Image Classification/animals//rhinoceros/rhinoceros-0248.jpg del-ed | Project 1 - CV - Animal Image Classification/animals//rhinoceros/rhinoceros-0250.jpg del-ed | Project 1 - CV - Animal Image Classification/animals//rhinoceros/rhinoceros-0253.jpg del-ed | Project 1 - CV - Animal Image Classification/animals//rhinoceros/rhinoceros-0261.jpg del-ed | Project 1 - CV - Animal Image Classification/animals//rhinoceros/rhinoceros-0268.jpg del-ed | Project 1 - CV - Animal Image Classification/animals//rhinoceros/rhinoceros-0269.jpg del-ed | Project 1 - CV - Animal Image Classification/animals//walrus/walrus-0006.jpg del-ed | Project 1 - CV - Animal Image Classification/animals//walrus/walrus-0013.jpg del-ed | Project 1 - CV - Animal Image Classification/animals//walrus/walrus-0067.jpg del-ed | Project 1 - CV - Animal Image Classification/animals//walrus/walrus-0076.jpg del-ed | Project 1 - CV - Animal Image Classification/animals//walrus/walrus-0082.jpg del-ed | Project 1 - CV - Animal Image Classification/animals//walrus/walrus-0097.jpg del-ed | Project 1 - CV - Animal Image Classification/animals//walrus/walrus-0113.jpg del-ed | Project 1 - CV - Animal Image Classification/animals//walrus/walrus-0120.jpg del-ed | Project 1 - CV - Animal Image Classification/animals//walrus/walrus-0138.jpg del-ed | Project 1 - CV - Animal Image Classification/animals//walrus/walrus-0167.jpg del-ed | Project 1 - CV - Animal Image Classification/animals//walrus/walrus-0179.jpg del-ed | Project 1 - CV - Animal Image Classification/animals//walrus/walrus-0206.jpg del-ed | Project 1 - CV - Animal Image Classification/animals//walrus/walrus-0217.jpg del-ed | Project 1 - CV - Animal Image Classification/animals//walrus/walrus-0220.jpg del-ed | Project 1 - CV - Animal Image Classification/animals//walrus/walrus-0234.jpg del-ed | Project 1 - CV - Animal Image Classification/animals//walrus/walrus-0251.jpg del-ed | Project 1 - CV - Animal Image Classification/animals//walrus/walrus-0253.jpg del-ed | Project 1 - CV - Animal Image Classification/animals//walrus/walrus-0256.jpg del-ed | Project 1 - CV - Animal Image Classification/animals//zebra/zebra-0007.jpg del-ed | Project 1 - CV - Animal Image Classification/animals//zebra/zebra-0022.jpg del-ed | Project 1 - CV - Animal Image Classification/animals//zebra/zebra-0048.jpg del-ed | Project 1 - CV - Animal Image Classification/animals//zebra/zebra-0054.jpg del-ed | Project 1 - CV - Animal Image Classification/animals//zebra/zebra-0068.jpg del-ed | Project 1 - CV - Animal Image Classification/animals//zebra/zebra-0072.jpg del-ed | Project 1 - CV - Animal Image Classification/animals//zebra/zebra-0084.jpg del-ed | Project 1 - CV - Animal Image Classification/animals//zebra/zebra-0101.jpg del-ed | Project 1 - CV - Animal Image Classification/animals//zebra/zebra-0102.jpg del-ed | Project 1 - CV - Animal Image Classification/animals//zebra/zebra-0107.jpg del-ed | Project 1 - CV - Animal Image Classification/animals//zebra/zebra-0109.jpg del-ed | Project 1 - CV - Animal Image Classification/animals//zebra/zebra-0119.jpg del-ed | Project 1 - CV - Animal Image Classification/animals//zebra/zebra-0171.jpg del-ed | Project 1 - CV - Animal Image Classification/animals//zebra/zebra-0173.jpg del-ed | Project 1 - CV - Animal Image Classification/animals//zebra/zebra-0175.jpg del-ed | Project 1 - CV - Animal Image Classification/animals//zebra/zebra-0181.jpg del-ed | Project 1 - CV - Animal Image Classification/animals//zebra/zebra-0188.jpg del-ed | Project 1 - CV - Animal Image Classification/animals//zebra/zebra-0190.jpg del-ed | Project 1 - CV - Animal Image Classification/animals//zebra/zebra-0207.jpg del-ed | Project 1 - CV - Animal Image Classification/animals//zebra/zebra-0217.jpg del-ed | Project 1 - CV - Animal Image Classification/animals//zebra/zebra-0219.jpg del-ed | Project 1 - CV - Animal Image Classification/animals//zebra/zebra-0221.jpg del-ed | Project 1 - CV - Animal Image Classification/animals//zebra/zebra-0232.jpg del-ed | Project 1 - CV - Animal Image Classification/animals//zebra/zebra-0249.jpg del-ed | Project 1 - CV - Animal Image Classification/animals//zebra/zebra-0259.jpg del-ed | Project 1 - CV - Animal Image Classification/animals//zebra/zebra-0260.jpg del-ed | Project 1 - CV - Animal Image Classification/animals//zebra/zebra-0268.jpg del-ed | Project 1 - CV - Animal Image Classification/animals//zebra/zebra-0269.jpg del-ed | Project 1 - CV - Animal Image Classification/animals//zebra/zebra-0271.jpg del-ed | "
     ]
    }
   ],
   "source": [
    "for folder in folders:\n",
    "  file_path = f'{filter_path}/{folder}/filtered-name.txt'\n",
    "\n",
    "  with open(file_path, 'r') as file:\n",
    "    for line in file:\n",
    "      img = line.strip()\n",
    "      path_img = f'{image_path}/{folder}/{img}'\n",
    "      if os.path.exists(path_img):\n",
    "        os.remove(path_img)\n",
    "      else:\n",
    "        print(f\"{path_img} del-ed\", end=\" | \")"
   ]
  },
  {
   "cell_type": "markdown",
   "metadata": {
    "id": "c0GNZyvAr3WI"
   },
   "source": [
    "## Load data (with augmentation)"
   ]
  },
  {
   "cell_type": "code",
   "execution_count": 5,
   "metadata": {
    "colab": {
     "base_uri": "https://localhost:8080/"
    },
    "execution": {
     "iopub.execute_input": "2024-09-02T07:00:23.945039Z",
     "iopub.status.busy": "2024-09-02T07:00:23.944646Z",
     "iopub.status.idle": "2024-09-02T07:00:25.440367Z",
     "shell.execute_reply": "2024-09-02T07:00:25.439684Z"
    },
    "id": "he4JXx6Vr5Fj",
    "outputId": "eb7347f5-664a-400a-f945-464ea4a2eb94"
   },
   "outputs": [],
   "source": [
    "import torch\n",
    "from torchvision import datasets, transforms\n",
    "from torch.utils.data import DataLoader, Subset\n",
    "from sklearn.model_selection import train_test_split\n",
    "import numpy as np\n",
    "\n",
    "# Define the transformations for training and validation\n",
    "transform = transforms.Compose([\n",
    "    transforms.Resize((224, 224)),\n",
    "    transforms.RandomRotation(45),\n",
    "    transforms.RandomHorizontalFlip(),\n",
    "    transforms.RandomAffine(degrees=0, translate=(0.2, 0.2), shear=0.2, scale=(0.8, 1.2)),\n",
    "    transforms.ToTensor(),\n",
    "    transforms.Normalize(mean=[0.485, 0.456, 0.406], std=[0.229, 0.224, 0.225])\n",
    "])\n",
    "\n",
    "# Load dataset\n",
    "dataset = datasets.ImageFolder(root=image_path, transform=transform)\n",
    "\n",
    "# Split dataset into training and validation sets\n",
    "train_indices, test_indices = train_test_split(range(len(dataset)), test_size=0.2, random_state=42)\n",
    "\n",
    "# Create subsets for training and validation\n",
    "train_dataset = Subset(dataset, train_indices)\n",
    "test_dataset = Subset(dataset, test_indices)\n",
    "\n",
    "# Create data loaders for training and validation\n",
    "train_loader = DataLoader(train_dataset, batch_size=128, shuffle=True, num_workers=4)\n",
    "test_loader = DataLoader(test_dataset, batch_size=128, shuffle=False, num_workers=4)\n"
   ]
  },
  {
   "cell_type": "markdown",
   "metadata": {
    "id": "mkAsWidHrOcH"
   },
   "source": [
    "# Model construction"
   ]
  },
  {
   "cell_type": "markdown",
   "metadata": {
    "id": "d9_09xwuystI"
   },
   "source": [
    "## Helpers"
   ]
  },
  {
   "cell_type": "code",
   "execution_count": 6,
   "metadata": {
    "execution": {
     "iopub.execute_input": "2024-09-02T07:00:25.443849Z",
     "iopub.status.busy": "2024-09-02T07:00:25.443408Z",
     "iopub.status.idle": "2024-09-02T07:00:25.451842Z",
     "shell.execute_reply": "2024-09-02T07:00:25.451211Z"
    },
    "id": "eHWun5rSNx5J"
   },
   "outputs": [],
   "source": [
    "import datetime\n",
    "\n",
    "from matplotlib import pyplot as plt\n",
    "import json\n",
    "\n",
    "def plot_learning_curve(history_dict, name=''):\n",
    "  plt.figure(figsize=(12, 6))\n",
    "  plt.subplot(1, 2, 1)\n",
    "  plt.plot(history_dict['train_loss'], label='Train Loss')\n",
    "  plt.plot(history_dict['test_loss'], label='Validation Loss')\n",
    "  plt.title('Loss')\n",
    "  plt.xlabel('Epoch')\n",
    "  plt.ylabel('Loss')\n",
    "  plt.legend()\n",
    "  plt.subplot(1, 2, 2)\n",
    "  plt.plot(history_dict['train_accuracy'], label='Train Accuracy')\n",
    "  plt.plot(history_dict['test_accuracy'], label='Validation Accuracy')\n",
    "  plt.title('Accuracy')\n",
    "  plt.xlabel('Epoch')\n",
    "  plt.ylabel('Accuracy')\n",
    "  plt.legend()\n",
    "  plt.tight_layout()\n",
    "  if name == '': name = datetime.datetime.now().strftime('%b-%d %H_%M_%S')\n",
    "  plt.savefig(f'{name}')\n",
    "  plt.show()\n",
    "\n",
    "model_path = 'Project 1 - CV - Animal Image Classification/model and history'\n",
    "def save_model(model, history_dict, name=''):\n",
    "  if name == '': name = datetime.datetime.now().strftime('%b-%d %H_%M_%S')\n",
    "  plot_learning_curve(history_dict, name)\n",
    "  torch.save(model.state_dict(), f'{model_path}/{name}.pth')\n",
    "  with open(f'{model_path}/history_{name}.json', 'w') as f:\n",
    "    json.dump(history_dict, f)"
   ]
  },
  {
   "cell_type": "markdown",
   "metadata": {
    "id": "10WrRCRDystJ"
   },
   "source": [
    "## Model architecture"
   ]
  },
  {
   "cell_type": "code",
   "execution_count": 7,
   "metadata": {
    "execution": {
     "iopub.execute_input": "2024-09-02T07:00:25.455235Z",
     "iopub.status.busy": "2024-09-02T07:00:25.454859Z",
     "iopub.status.idle": "2024-09-02T07:00:25.963494Z",
     "shell.execute_reply": "2024-09-02T07:00:25.962814Z"
    }
   },
   "outputs": [],
   "source": [
    "import torch\n",
    "import torch.nn as nn\n",
    "import torch.nn.functional as F\n",
    "import torchvision.models as models\n",
    "from torchvision import transforms\n",
    "from torchvision.models import googlenet, efficientnet_b0\n",
    "from torch.utils.data import DataLoader, Dataset\n",
    "from vit_pytorch import ViT"
   ]
  },
  {
   "cell_type": "markdown",
   "metadata": {},
   "source": [
    "### CNN Backbone\n",
    "Combine of 2 models: EfficientNetB0 (Lightweight) and MobileNetV3 (super light)"
   ]
  },
  {
   "cell_type": "code",
   "execution_count": 9,
   "metadata": {
    "execution": {
     "iopub.execute_input": "2024-09-02T07:00:26.000486Z",
     "iopub.status.busy": "2024-09-02T07:00:26.000113Z",
     "iopub.status.idle": "2024-09-02T07:00:26.006084Z",
     "shell.execute_reply": "2024-09-02T07:00:26.005439Z"
    },
    "id": "2W5_O2YOystJ"
   },
   "outputs": [],
   "source": [
    "import torch\n",
    "import torch.nn as nn\n",
    "class CNNBackbone(nn.Module):\n",
    "    def __init__(self):\n",
    "        super(CNNBackbone, self).__init__()\n",
    "        self.efficientnet = efficientnet_b0(pretrained=True)\n",
    "        self.inception = googlenet(pretrained=True)\n",
    "\n",
    "    def forward(self, x):\n",
    "        inception_out = self.inception(x)\n",
    "        efficientnet_out = self.efficientnet(x)\n",
    "        combined = torch.cat([inception_out, efficientnet_out], dim=1)\n",
    "        return combined\n",
    " \n",
    "class HybridModel(nn.Module):\n",
    "    def __init__(self, num_classes=45):\n",
    "        super(HybridModel, self).__init__()\n",
    "        self.cnn_backbone = CNNBackbone()\n",
    "        self.fc1 = nn.Linear(2000, 512)\n",
    "        self.dropout = nn.Dropout(0.3)\n",
    "        self.fc2 = nn.Linear(512, num_classes)\n",
    "\n",
    "    def forward(self, x):\n",
    "        x = self.cnn_backbone(x)\n",
    "        x = self.fc1(x)\n",
    "        x = self.dropout(x)\n",
    "        x = self.fc2(x)\n",
    "        return x"
   ]
  },
  {
   "cell_type": "markdown",
   "metadata": {},
   "source": [
    "# Training"
   ]
  },
  {
   "cell_type": "markdown",
   "metadata": {},
   "source": [
    "## Helper"
   ]
  },
  {
   "cell_type": "code",
   "execution_count": 11,
   "metadata": {
    "execution": {
     "iopub.execute_input": "2024-09-02T07:00:26.020029Z",
     "iopub.status.busy": "2024-09-02T07:00:26.019704Z",
     "iopub.status.idle": "2024-09-02T07:00:28.747701Z",
     "shell.execute_reply": "2024-09-02T07:00:28.747072Z"
    }
   },
   "outputs": [
    {
     "name": "stderr",
     "output_type": "stream",
     "text": [
      "\u001b[34m\u001b[1mwandb\u001b[0m: Currently logged in as: \u001b[33mletangphuquy4\u001b[0m (\u001b[33mletangphuquy4-vietnam-korea-university-of-information-an\u001b[0m). Use \u001b[1m`wandb login --relogin`\u001b[0m to force relogin\n"
     ]
    },
    {
     "name": "stderr",
     "output_type": "stream",
     "text": [
      "\u001b[34m\u001b[1mwandb\u001b[0m: wandb version 0.17.8 is available!  To upgrade, please run:\n",
      "\u001b[34m\u001b[1mwandb\u001b[0m:  $ pip install wandb --upgrade\n"
     ]
    },
    {
     "name": "stderr",
     "output_type": "stream",
     "text": [
      "\u001b[34m\u001b[1mwandb\u001b[0m: Tracking run with wandb version 0.17.7\n"
     ]
    },
    {
     "name": "stderr",
     "output_type": "stream",
     "text": [
      "\u001b[34m\u001b[1mwandb\u001b[0m: Run data is saved locally in \u001b[35m\u001b[1m/home/ltpq/ai4e/CV_1/wandb/run-20240902_140027-4jrn2m6q\u001b[0m\n",
      "\u001b[34m\u001b[1mwandb\u001b[0m: Run \u001b[1m`wandb offline`\u001b[0m to turn off syncing.\n"
     ]
    },
    {
     "name": "stderr",
     "output_type": "stream",
     "text": [
      "\u001b[34m\u001b[1mwandb\u001b[0m: Syncing run \u001b[33mclean-leaf-14\u001b[0m\n"
     ]
    },
    {
     "name": "stderr",
     "output_type": "stream",
     "text": [
      "\u001b[34m\u001b[1mwandb\u001b[0m: ⭐️ View project at \u001b[34m\u001b[4mhttps://wandb.ai/letangphuquy4-vietnam-korea-university-of-information-an/HybridModel-AnimalsClassifier\u001b[0m\n"
     ]
    },
    {
     "name": "stderr",
     "output_type": "stream",
     "text": [
      "\u001b[34m\u001b[1mwandb\u001b[0m: 🚀 View run at \u001b[34m\u001b[4mhttps://wandb.ai/letangphuquy4-vietnam-korea-university-of-information-an/HybridModel-AnimalsClassifier/runs/4jrn2m6q\u001b[0m\n"
     ]
    }
   ],
   "source": [
    "import wandb\n",
    "wandb.login()\n",
    "wandb.init(project=\"HybridModel-AnimalsClassifier\", entity=\"letangphuquy4-vietnam-korea-university-of-information-an\")  # Replace \"your_wandb_username\" with your actual wandb username\n",
    "wandb.config.update({\"epochs\": 30, \"batch_size\": 128,\n",
    "                    \"num_classes\": 45, \"img_size\": 224})\n"
   ]
  },
  {
   "cell_type": "code",
   "execution_count": 12,
   "metadata": {
    "execution": {
     "iopub.execute_input": "2024-09-02T07:00:28.751050Z",
     "iopub.status.busy": "2024-09-02T07:00:28.750706Z",
     "iopub.status.idle": "2024-09-02T07:00:28.759107Z",
     "shell.execute_reply": "2024-09-02T07:00:28.758431Z"
    },
    "id": "JHafsEnZystJ"
   },
   "outputs": [],
   "source": [
    "def train(model, train_loader, optimizer, criterion, device):\n",
    "    model.train()\n",
    "    running_loss = 0.0\n",
    "    correct = 0\n",
    "    total = 0\n",
    "    \n",
    "    for images, labels in train_loader:\n",
    "        images, labels = images.to(device), labels.to(device)\n",
    "        \n",
    "        optimizer.zero_grad()\n",
    "        \n",
    "        outputs = model(images)\n",
    "        loss = criterion(outputs, labels)\n",
    "        loss.backward()\n",
    "        optimizer.step()\n",
    "        \n",
    "        running_loss += loss.item() * images.size(0)\n",
    "        _, preds = torch.max(outputs, 1)\n",
    "        correct += (preds == labels).sum().item()\n",
    "        total += labels.size(0)\n",
    "    \n",
    "    epoch_loss = running_loss / len(train_loader.dataset)\n",
    "    epoch_accuracy = correct / total\n",
    "    return epoch_loss, epoch_accuracy\n",
    "\n",
    "def evaluate(model, test_loader, criterion, device):\n",
    "    model.eval()\n",
    "    running_loss = 0.0\n",
    "    correct = 0\n",
    "    total = 0\n",
    "    \n",
    "    with torch.no_grad():\n",
    "        for images, labels in test_loader:\n",
    "            images, labels = images.to(device), labels.to(device)\n",
    "            \n",
    "            outputs = model(images)\n",
    "            loss = criterion(outputs, labels)\n",
    "            \n",
    "            running_loss += loss.item() * images.size(0)\n",
    "            _, preds = torch.max(outputs, 1)\n",
    "            correct += (preds == labels).sum().item()\n",
    "            total += labels.size(0)\n",
    "    \n",
    "    epoch_loss = running_loss / len(test_loader.dataset)\n",
    "    epoch_accuracy = correct / total\n",
    "    return epoch_loss, epoch_accuracy"
   ]
  },
  {
   "cell_type": "markdown",
   "metadata": {},
   "source": [
    "## Train"
   ]
  },
  {
   "cell_type": "code",
   "execution_count": 13,
   "metadata": {
    "execution": {
     "iopub.execute_input": "2024-09-02T07:00:28.762217Z",
     "iopub.status.busy": "2024-09-02T07:00:28.761832Z",
     "iopub.status.idle": "2024-09-02T10:25:47.995184Z",
     "shell.execute_reply": "2024-09-02T10:25:47.994457Z"
    },
    "id": "Excoi86bJiXs"
   },
   "outputs": [
    {
     "name": "stderr",
     "output_type": "stream",
     "text": [
      "/home/ltpq/.local/lib/python3.10/site-packages/torchvision/models/_utils.py:208: UserWarning: The parameter 'pretrained' is deprecated since 0.13 and may be removed in the future, please use 'weights' instead.\n",
      "  warnings.warn(\n",
      "/home/ltpq/.local/lib/python3.10/site-packages/torchvision/models/_utils.py:223: UserWarning: Arguments other than a weight enum or `None` for 'weights' are deprecated since 0.13 and may be removed in the future. The current behavior is equivalent to passing `weights=EfficientNet_B0_Weights.IMAGENET1K_V1`. You can also use `weights=EfficientNet_B0_Weights.DEFAULT` to get the most up-to-date weights.\n",
      "  warnings.warn(msg)\n"
     ]
    },
    {
     "name": "stderr",
     "output_type": "stream",
     "text": [
      "/home/ltpq/.local/lib/python3.10/site-packages/torchvision/models/_utils.py:223: UserWarning: Arguments other than a weight enum or `None` for 'weights' are deprecated since 0.13 and may be removed in the future. The current behavior is equivalent to passing `weights=GoogLeNet_Weights.IMAGENET1K_V1`. You can also use `weights=GoogLeNet_Weights.DEFAULT` to get the most up-to-date weights.\n",
      "  warnings.warn(msg)\n"
     ]
    },
    {
     "name": "stdout",
     "output_type": "stream",
     "text": [
      "Epoch 1/50 - Train Loss: 3.3962, Train Accuracy: 0.1962\n",
      "Epoch 1/50 - Test Loss: 2.8642, Test Accuracy: 0.4590\n"
     ]
    },
    {
     "name": "stdout",
     "output_type": "stream",
     "text": [
      "Epoch 2/50 - Train Loss: 2.4732, Train Accuracy: 0.5093\n",
      "Epoch 2/50 - Test Loss: 2.0142, Test Accuracy: 0.6449\n"
     ]
    },
    {
     "name": "stdout",
     "output_type": "stream",
     "text": [
      "Epoch 3/50 - Train Loss: 1.7917, Train Accuracy: 0.6437\n",
      "Epoch 3/50 - Test Loss: 1.4927, Test Accuracy: 0.7253\n"
     ]
    },
    {
     "name": "stdout",
     "output_type": "stream",
     "text": [
      "Epoch 4/50 - Train Loss: 1.3766, Train Accuracy: 0.7184\n",
      "Epoch 4/50 - Test Loss: 1.1819, Test Accuracy: 0.7737\n"
     ]
    },
    {
     "name": "stdout",
     "output_type": "stream",
     "text": [
      "Epoch 5/50 - Train Loss: 1.1163, Train Accuracy: 0.7607\n",
      "Epoch 5/50 - Test Loss: 0.9642, Test Accuracy: 0.8053\n"
     ]
    },
    {
     "name": "stdout",
     "output_type": "stream",
     "text": [
      "Epoch 6/50 - Train Loss: 0.9606, Train Accuracy: 0.7834\n",
      "Epoch 6/50 - Test Loss: 0.8372, Test Accuracy: 0.8225\n"
     ]
    },
    {
     "name": "stdout",
     "output_type": "stream",
     "text": [
      "Epoch 7/50 - Train Loss: 0.8347, Train Accuracy: 0.8109\n",
      "Epoch 7/50 - Test Loss: 0.7462, Test Accuracy: 0.8357\n"
     ]
    },
    {
     "name": "stdout",
     "output_type": "stream",
     "text": [
      "Epoch 8/50 - Train Loss: 0.7534, Train Accuracy: 0.8202\n",
      "Epoch 8/50 - Test Loss: 0.6805, Test Accuracy: 0.8469\n"
     ]
    },
    {
     "name": "stdout",
     "output_type": "stream",
     "text": [
      "Epoch 9/50 - Train Loss: 0.6814, Train Accuracy: 0.8359\n",
      "Epoch 9/50 - Test Loss: 0.6350, Test Accuracy: 0.8525\n"
     ]
    },
    {
     "name": "stdout",
     "output_type": "stream",
     "text": [
      "Epoch 10/50 - Train Loss: 0.6266, Train Accuracy: 0.8458\n",
      "Epoch 10/50 - Test Loss: 0.5990, Test Accuracy: 0.8481\n"
     ]
    },
    {
     "name": "stdout",
     "output_type": "stream",
     "text": [
      "Epoch 11/50 - Train Loss: 0.5848, Train Accuracy: 0.8534\n",
      "Epoch 11/50 - Test Loss: 0.5609, Test Accuracy: 0.8645\n"
     ]
    },
    {
     "name": "stdout",
     "output_type": "stream",
     "text": [
      "Epoch 12/50 - Train Loss: 0.5548, Train Accuracy: 0.8603\n",
      "Epoch 12/50 - Test Loss: 0.5123, Test Accuracy: 0.8685\n"
     ]
    },
    {
     "name": "stdout",
     "output_type": "stream",
     "text": [
      "Epoch 13/50 - Train Loss: 0.5228, Train Accuracy: 0.8665\n",
      "Epoch 13/50 - Test Loss: 0.5183, Test Accuracy: 0.8673\n"
     ]
    },
    {
     "name": "stdout",
     "output_type": "stream",
     "text": [
      "Epoch 14/50 - Train Loss: 0.4978, Train Accuracy: 0.8722\n",
      "Epoch 14/50 - Test Loss: 0.4891, Test Accuracy: 0.8717\n"
     ]
    },
    {
     "name": "stdout",
     "output_type": "stream",
     "text": [
      "Epoch 15/50 - Train Loss: 0.4764, Train Accuracy: 0.8745\n",
      "Epoch 15/50 - Test Loss: 0.4644, Test Accuracy: 0.8804\n"
     ]
    },
    {
     "name": "stdout",
     "output_type": "stream",
     "text": [
      "Epoch 16/50 - Train Loss: 0.4523, Train Accuracy: 0.8802\n",
      "Epoch 16/50 - Test Loss: 0.4535, Test Accuracy: 0.8800\n"
     ]
    },
    {
     "name": "stdout",
     "output_type": "stream",
     "text": [
      "Epoch 17/50 - Train Loss: 0.4305, Train Accuracy: 0.8867\n",
      "Epoch 17/50 - Test Loss: 0.4430, Test Accuracy: 0.8828\n"
     ]
    },
    {
     "name": "stdout",
     "output_type": "stream",
     "text": [
      "Epoch 18/50 - Train Loss: 0.4235, Train Accuracy: 0.8870\n",
      "Epoch 18/50 - Test Loss: 0.4245, Test Accuracy: 0.8892\n"
     ]
    },
    {
     "name": "stdout",
     "output_type": "stream",
     "text": [
      "Epoch 19/50 - Train Loss: 0.4162, Train Accuracy: 0.8883\n",
      "Epoch 19/50 - Test Loss: 0.4215, Test Accuracy: 0.8908\n"
     ]
    },
    {
     "name": "stdout",
     "output_type": "stream",
     "text": [
      "Epoch 20/50 - Train Loss: 0.3920, Train Accuracy: 0.8957\n",
      "Epoch 20/50 - Test Loss: 0.4054, Test Accuracy: 0.8900\n"
     ]
    },
    {
     "name": "stdout",
     "output_type": "stream",
     "text": [
      "Epoch 21/50 - Train Loss: 0.3741, Train Accuracy: 0.8946\n",
      "Epoch 21/50 - Test Loss: 0.4082, Test Accuracy: 0.8896\n"
     ]
    },
    {
     "name": "stdout",
     "output_type": "stream",
     "text": [
      "Epoch 22/50 - Train Loss: 0.3677, Train Accuracy: 0.8998\n",
      "Epoch 22/50 - Test Loss: 0.3843, Test Accuracy: 0.8928\n"
     ]
    },
    {
     "name": "stdout",
     "output_type": "stream",
     "text": [
      "Epoch 23/50 - Train Loss: 0.3527, Train Accuracy: 0.9011\n",
      "Epoch 23/50 - Test Loss: 0.3760, Test Accuracy: 0.8996\n"
     ]
    },
    {
     "name": "stdout",
     "output_type": "stream",
     "text": [
      "Epoch 24/50 - Train Loss: 0.3517, Train Accuracy: 0.9032\n",
      "Epoch 24/50 - Test Loss: 0.3953, Test Accuracy: 0.8884\n"
     ]
    },
    {
     "name": "stdout",
     "output_type": "stream",
     "text": [
      "Epoch 25/50 - Train Loss: 0.3358, Train Accuracy: 0.9063\n",
      "Epoch 25/50 - Test Loss: 0.3569, Test Accuracy: 0.8980\n"
     ]
    },
    {
     "name": "stdout",
     "output_type": "stream",
     "text": [
      "Epoch 26/50 - Train Loss: 0.3307, Train Accuracy: 0.9097\n",
      "Epoch 26/50 - Test Loss: 0.3705, Test Accuracy: 0.8936\n"
     ]
    },
    {
     "name": "stdout",
     "output_type": "stream",
     "text": [
      "Epoch 27/50 - Train Loss: 0.3182, Train Accuracy: 0.9169\n",
      "Epoch 27/50 - Test Loss: 0.3644, Test Accuracy: 0.8948\n"
     ]
    },
    {
     "name": "stdout",
     "output_type": "stream",
     "text": [
      "Epoch 28/50 - Train Loss: 0.3123, Train Accuracy: 0.9121\n",
      "Epoch 28/50 - Test Loss: 0.3500, Test Accuracy: 0.8972\n"
     ]
    },
    {
     "name": "stdout",
     "output_type": "stream",
     "text": [
      "Epoch 29/50 - Train Loss: 0.2991, Train Accuracy: 0.9170\n",
      "Epoch 29/50 - Test Loss: 0.3433, Test Accuracy: 0.9040\n"
     ]
    },
    {
     "name": "stdout",
     "output_type": "stream",
     "text": [
      "Epoch 30/50 - Train Loss: 0.2879, Train Accuracy: 0.9194\n",
      "Epoch 30/50 - Test Loss: 0.3497, Test Accuracy: 0.9004\n"
     ]
    },
    {
     "name": "stdout",
     "output_type": "stream",
     "text": [
      "Epoch 31/50 - Train Loss: 0.2814, Train Accuracy: 0.9230\n",
      "Epoch 31/50 - Test Loss: 0.3485, Test Accuracy: 0.8984\n"
     ]
    },
    {
     "name": "stdout",
     "output_type": "stream",
     "text": [
      "Epoch 32/50 - Train Loss: 0.2758, Train Accuracy: 0.9245\n",
      "Epoch 32/50 - Test Loss: 0.3411, Test Accuracy: 0.9008\n"
     ]
    },
    {
     "name": "stdout",
     "output_type": "stream",
     "text": [
      "Epoch 33/50 - Train Loss: 0.2740, Train Accuracy: 0.9228\n",
      "Epoch 33/50 - Test Loss: 0.3379, Test Accuracy: 0.8992\n"
     ]
    },
    {
     "name": "stdout",
     "output_type": "stream",
     "text": [
      "Epoch 34/50 - Train Loss: 0.2689, Train Accuracy: 0.9253\n",
      "Epoch 34/50 - Test Loss: 0.3370, Test Accuracy: 0.9000\n"
     ]
    },
    {
     "name": "stdout",
     "output_type": "stream",
     "text": [
      "Epoch 35/50 - Train Loss: 0.2698, Train Accuracy: 0.9238\n",
      "Epoch 35/50 - Test Loss: 0.3331, Test Accuracy: 0.9036\n"
     ]
    },
    {
     "name": "stdout",
     "output_type": "stream",
     "text": [
      "Epoch 36/50 - Train Loss: 0.2637, Train Accuracy: 0.9272\n",
      "Epoch 36/50 - Test Loss: 0.3234, Test Accuracy: 0.9088\n"
     ]
    },
    {
     "name": "stdout",
     "output_type": "stream",
     "text": [
      "Epoch 37/50 - Train Loss: 0.2590, Train Accuracy: 0.9275\n",
      "Epoch 37/50 - Test Loss: 0.3372, Test Accuracy: 0.9004\n"
     ]
    },
    {
     "name": "stdout",
     "output_type": "stream",
     "text": [
      "Epoch 38/50 - Train Loss: 0.2537, Train Accuracy: 0.9276\n",
      "Epoch 38/50 - Test Loss: 0.3209, Test Accuracy: 0.9060\n"
     ]
    },
    {
     "name": "stdout",
     "output_type": "stream",
     "text": [
      "Epoch 39/50 - Train Loss: 0.2491, Train Accuracy: 0.9312\n",
      "Epoch 39/50 - Test Loss: 0.3181, Test Accuracy: 0.9084\n"
     ]
    },
    {
     "name": "stdout",
     "output_type": "stream",
     "text": [
      "Epoch 40/50 - Train Loss: 0.2336, Train Accuracy: 0.9337\n",
      "Epoch 40/50 - Test Loss: 0.3138, Test Accuracy: 0.9060\n"
     ]
    },
    {
     "name": "stdout",
     "output_type": "stream",
     "text": [
      "Epoch 41/50 - Train Loss: 0.2352, Train Accuracy: 0.9354\n",
      "Epoch 41/50 - Test Loss: 0.3241, Test Accuracy: 0.9072\n"
     ]
    },
    {
     "name": "stdout",
     "output_type": "stream",
     "text": [
      "Epoch 42/50 - Train Loss: 0.2281, Train Accuracy: 0.9390\n",
      "Epoch 42/50 - Test Loss: 0.3089, Test Accuracy: 0.9100\n"
     ]
    },
    {
     "name": "stdout",
     "output_type": "stream",
     "text": [
      "Epoch 43/50 - Train Loss: 0.2256, Train Accuracy: 0.9366\n",
      "Epoch 43/50 - Test Loss: 0.3202, Test Accuracy: 0.9028\n"
     ]
    },
    {
     "name": "stdout",
     "output_type": "stream",
     "text": [
      "Epoch 44/50 - Train Loss: 0.2271, Train Accuracy: 0.9319\n",
      "Epoch 44/50 - Test Loss: 0.3097, Test Accuracy: 0.9116\n"
     ]
    },
    {
     "name": "stdout",
     "output_type": "stream",
     "text": [
      "Epoch 45/50 - Train Loss: 0.2280, Train Accuracy: 0.9357\n",
      "Epoch 45/50 - Test Loss: 0.2974, Test Accuracy: 0.9084\n"
     ]
    },
    {
     "name": "stdout",
     "output_type": "stream",
     "text": [
      "Epoch 46/50 - Train Loss: 0.2167, Train Accuracy: 0.9381\n",
      "Epoch 46/50 - Test Loss: 0.2939, Test Accuracy: 0.9108\n"
     ]
    },
    {
     "name": "stdout",
     "output_type": "stream",
     "text": [
      "Epoch 47/50 - Train Loss: 0.2071, Train Accuracy: 0.9426\n",
      "Epoch 47/50 - Test Loss: 0.2930, Test Accuracy: 0.9168\n"
     ]
    },
    {
     "name": "stdout",
     "output_type": "stream",
     "text": [
      "Epoch 48/50 - Train Loss: 0.2107, Train Accuracy: 0.9386\n",
      "Epoch 48/50 - Test Loss: 0.3038, Test Accuracy: 0.9076\n"
     ]
    },
    {
     "name": "stdout",
     "output_type": "stream",
     "text": [
      "Epoch 49/50 - Train Loss: 0.2089, Train Accuracy: 0.9405\n",
      "Epoch 49/50 - Test Loss: 0.2977, Test Accuracy: 0.9108\n"
     ]
    },
    {
     "name": "stdout",
     "output_type": "stream",
     "text": [
      "Epoch 50/50 - Train Loss: 0.2023, Train Accuracy: 0.9451\n",
      "Epoch 50/50 - Test Loss: 0.2969, Test Accuracy: 0.9108\n"
     ]
    }
   ],
   "source": [
    "model = HybridModel()\n",
    "optimizer = torch.optim.SGD(model.parameters(), lr=1e-3, momentum=0.7)\n",
    "criterion = nn.CrossEntropyLoss()\n",
    "\n",
    "device = torch.device(\"cuda\" if torch.cuda.is_available() else \"cpu\")\n",
    "model.to(device)\n",
    "\n",
    "history = {\n",
    "    'train_loss': [],\n",
    "    'test_loss': [],\n",
    "    'train_accuracy': [],\n",
    "    'test_accuracy': []\n",
    "}\n",
    "\n",
    "# Training with frozen layers\n",
    "num_epochs_frozen = 50\n",
    "\n",
    "for epoch in range(num_epochs_frozen):\n",
    "    train_loss, train_accuracy = train(model, train_loader, optimizer, criterion, device)\n",
    "    test_loss, test_accuracy = evaluate(model, test_loader, criterion, device)\n",
    "    \n",
    "    history['train_loss'].append(train_loss)\n",
    "    history['test_loss'].append(test_loss)\n",
    "    history['train_accuracy'].append(train_accuracy)\n",
    "    history['test_accuracy'].append(test_accuracy)\n",
    "\n",
    "    print(f\"Epoch {epoch + 1}/{num_epochs_frozen} - Train Loss: {train_loss:.4f}, Train Accuracy: {train_accuracy:.4f}\")\n",
    "    print(f\"Epoch {epoch + 1}/{num_epochs_frozen} - Test Loss: {test_loss:.4f}, Test Accuracy: {test_accuracy:.4f}\")\n",
    "    wandb.log({\"train_loss\": train_loss, \"train_accuracy\": train_accuracy,\n",
    "                \"test_loss\": test_loss, \"test_accuracy\": test_accuracy})"
   ]
  },
  {
   "cell_type": "code",
   "execution_count": 14,
   "metadata": {
    "execution": {
     "iopub.execute_input": "2024-09-02T10:25:47.998628Z",
     "iopub.status.busy": "2024-09-02T10:25:47.998225Z",
     "iopub.status.idle": "2024-09-02T10:25:48.900445Z",
     "shell.execute_reply": "2024-09-02T10:25:48.899731Z"
    }
   },
   "outputs": [
    {
     "data": {
      "image/png": "[encoded data removed]",
      "text/plain": [
       "<Figure size 1200x600 with 2 Axes>"
      ]
     },
     "metadata": {},
     "output_type": "display_data"
    }
   ],
   "source": [
    "save_model(model, history, \"hybrid_model\")"
   ]
  },
  {
   "cell_type": "code",
   "execution_count": 15,
   "metadata": {
    "execution": {
     "iopub.execute_input": "2024-09-02T10:25:48.903733Z",
     "iopub.status.busy": "2024-09-02T10:25:48.903389Z",
     "iopub.status.idle": "2024-09-02T10:25:54.967864Z",
     "shell.execute_reply": "2024-09-02T10:25:54.967265Z"
    }
   },
   "outputs": [
    {
     "name": "stderr",
     "output_type": "stream",
     "text": [
      "\u001b[34m\u001b[1mwandb\u001b[0m: - 0.002 MB of 0.002 MB uploaded\r"
     ]
    },
    {
     "name": "stderr",
     "output_type": "stream",
     "text": [
      "\u001b[34m\u001b[1mwandb\u001b[0m: \\ 0.002 MB of 0.017 MB uploaded\r"
     ]
    },
    {
     "name": "stderr",
     "output_type": "stream",
     "text": [
      "\u001b[34m\u001b[1mwandb\u001b[0m: | 0.002 MB of 0.017 MB uploaded\r"
     ]
    },
    {
     "name": "stderr",
     "output_type": "stream",
     "text": [
      "\u001b[34m\u001b[1mwandb\u001b[0m: / 0.017 MB of 0.017 MB uploaded\r"
     ]
    },
    {
     "name": "stderr",
     "output_type": "stream",
     "text": [
      "\u001b[34m\u001b[1mwandb\u001b[0m:                                                                                \n"
     ]
    },
    {
     "name": "stderr",
     "output_type": "stream",
     "text": [
      "\u001b[34m\u001b[1mwandb\u001b[0m: \n",
      "\u001b[34m\u001b[1mwandb\u001b[0m: Run history:\n",
      "\u001b[34m\u001b[1mwandb\u001b[0m:  test_accuracy ▁▄▅▆▇▇▇▇▇▇▇▇▇▇██████████████████████████\n",
      "\u001b[34m\u001b[1mwandb\u001b[0m:      test_loss █▆▄▃▂▂▂▂▂▂▂▂▁▁▁▁▁▁▁▁▁▁▁▁▁▁▁▁▁▁▁▁▁▁▁▁▁▁▁▁\n",
      "\u001b[34m\u001b[1mwandb\u001b[0m: train_accuracy ▁▄▅▆▆▇▇▇▇▇▇▇▇▇▇▇████████████████████████\n",
      "\u001b[34m\u001b[1mwandb\u001b[0m:     train_loss █▆▄▄▃▂▂▂▂▂▂▂▂▂▁▁▁▁▁▁▁▁▁▁▁▁▁▁▁▁▁▁▁▁▁▁▁▁▁▁\n",
      "\u001b[34m\u001b[1mwandb\u001b[0m: \n",
      "\u001b[34m\u001b[1mwandb\u001b[0m: Run summary:\n",
      "\u001b[34m\u001b[1mwandb\u001b[0m:  test_accuracy 0.91084\n",
      "\u001b[34m\u001b[1mwandb\u001b[0m:      test_loss 0.29691\n",
      "\u001b[34m\u001b[1mwandb\u001b[0m: train_accuracy 0.94511\n",
      "\u001b[34m\u001b[1mwandb\u001b[0m:     train_loss 0.20232\n",
      "\u001b[34m\u001b[1mwandb\u001b[0m: \n"
     ]
    },
    {
     "name": "stderr",
     "output_type": "stream",
     "text": [
      "\u001b[34m\u001b[1mwandb\u001b[0m: 🚀 View run \u001b[33mclean-leaf-14\u001b[0m at: \u001b[34m\u001b[4mhttps://wandb.ai/letangphuquy4-vietnam-korea-university-of-information-an/HybridModel-AnimalsClassifier/runs/4jrn2m6q\u001b[0m\n",
      "\u001b[34m\u001b[1mwandb\u001b[0m: ⭐️ View project at: \u001b[34m\u001b[4mhttps://wandb.ai/letangphuquy4-vietnam-korea-university-of-information-an/HybridModel-AnimalsClassifier\u001b[0m\n",
      "\u001b[34m\u001b[1mwandb\u001b[0m: Synced 5 W&B file(s), 0 media file(s), 0 artifact file(s) and 0 other file(s)\n"
     ]
    },
    {
     "name": "stderr",
     "output_type": "stream",
     "text": [
      "\u001b[34m\u001b[1mwandb\u001b[0m: Find logs at: \u001b[35m\u001b[1m./wandb/run-20240902_140027-4jrn2m6q/logs\u001b[0m\n"
     ]
    },
    {
     "name": "stderr",
     "output_type": "stream",
     "text": [
      "\u001b[34m\u001b[1mwandb\u001b[0m: \u001b[33mWARNING\u001b[0m The new W&B backend becomes opt-out in version 0.18.0; try it out with `wandb.require(\"core\")`! See https://wandb.me/wandb-core for more information.\n"
     ]
    }
   ],
   "source": [
    "wandb.finish()"
   ]
  }
 ],
 "metadata": {
  "accelerator": "GPU",
  "colab": {
   "gpuType": "T4",
   "machine_shape": "hm",
   "provenance": [],
   "toc_visible": true
  },
  "kernelspec": {
   "display_name": "Python 3",
   "name": "python3"
  },
  "language_info": {
   "codemirror_mode": {
    "name": "ipython",
    "version": 3
   },
   "file_extension": ".py",
   "mimetype": "text/x-python",
   "name": "python",
   "nbconvert_exporter": "python",
   "pygments_lexer": "ipython3",
   "version": "3.10.12"
  }
 },
 "nbformat": 4,
 "nbformat_minor": 0
}
